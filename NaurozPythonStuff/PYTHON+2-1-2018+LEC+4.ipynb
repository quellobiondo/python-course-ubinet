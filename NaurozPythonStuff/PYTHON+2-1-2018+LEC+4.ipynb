{
 "cells": [
  {
   "cell_type": "code",
   "execution_count": null,
   "metadata": {
    "collapsed": true
   },
   "outputs": [],
   "source": [
    "#what are datatyes and instructions and syntax of programming language. this is what is raw idea about new programming language\n",
    "#what are python data types\n",
    "#1.Numbers = int,float,complex,boolean\n",
    "#2.Sequences = string,lists(mutable),tuples,bytes(like string that is not encoded i.e decoded)\n",
    "#3.Collections= dictionary(mutable),sets(mutable)  rest are all immutable. \n",
    "#but why immutable and mutable types? 1) only immutable types can be used in Hash functions. All prog lang are uses abs layer for\n",
    "#memory management using reference to have garbage collection stuff and lang will take care of memory management. Reference has side effects,\n",
    "# \n",
    "#thats what we have for datatypes in Python. \n",
    "#if it looks like duck then it is duck , python duck typing. \n",
    "#pytutor.com\n",
    "#what are instructions that we have covere? \n",
    "#if,for,while"
   ]
  },
  {
   "cell_type": "code",
   "execution_count": null,
   "metadata": {},
   "outputs": [],
   "source": [
    "a=[1]\n",
    "#here function obj is created and if you have a bug in fun you will not see untill, so when we call we created local var b and this locak variable is stored at variable space of function f\n",
    "def f (b):\n",
    "    b.append(2)\n",
    "f(a)\n",
    "print(a)\n",
    "#conclusion if list was mutable than it would  not be possible to reference. "
   ]
  },
  {
   "cell_type": "code",
   "execution_count": null,
   "metadata": {},
   "outputs": [],
   "source": [
    "bool(1<4)"
   ]
  },
  {
   "cell_type": "code",
   "execution_count": null,
   "metadata": {},
   "outputs": [],
   "source": [
    "False is \n",
    "    *False\n",
    "    *0,0.0\n",
    "    *None\n",
    "    *any empty object [],{},'',tuple(),set()\n",
    "True is \n",
    "    *everything else is true. "
   ]
  },
  {
   "cell_type": "code",
   "execution_count": null,
   "metadata": {},
   "outputs": [],
   "source": [
    "s='spam'\n",
    "while s:\n",
    "    print(s)\n",
    "    s = s[:-1]\n",
    "#while loop stopped bec strip beccame empty\n",
    "#while is used for "
   ]
  },
  {
   "cell_type": "code",
   "execution_count": null,
   "metadata": {},
   "outputs": [],
   "source": [
    "while True:\n",
    "    break\n",
    "    continue * to skip the current continuaution  \n",
    "    pass * just pass this this block of code bec I have not implemented something or I dont wat this block to runn."
   ]
  },
  {
   "cell_type": "code",
   "execution_count": null,
   "metadata": {},
   "outputs": [],
   "source": [
    "\n",
    "while True:\n",
    "    x = input(\" give your choice \")\n",
    "    if int(x)==0: # convert the str x\n",
    "        break\n",
    "    elif int(x)==1:\n",
    "        continue\n",
    "    elif int(x)==23:\n",
    "        pass # if you dont write pass here but other code below this line will \n",
    "    else:\n",
    "        print(\"not 0 or 1\")\n",
    "    "
   ]
  },
  {
   "cell_type": "code",
   "execution_count": null,
   "metadata": {},
   "outputs": [],
   "source": [
    "while True:\n",
    "    x = input(\" give your choice \")\n",
    "    if x.isDecimal():\n",
    "        x=int(x)           \n",
    "        if int(x)==0: # convert the str x\n",
    "            break\n",
    "        elif int(x)==1:\n",
    "            continue\n",
    "        elif int(x)==23:\n",
    "            pass # if you dont write pass here but other code below this line will \n",
    "        else:\n",
    "            print(\"not 0 or 1\")\n",
    "    else\n",
    "        print( \" please give correct choice\")\n",
    "    "
   ]
  },
  {
   "cell_type": "code",
   "execution_count": null,
   "metadata": {},
   "outputs": [],
   "source": [
    "#For loop\n",
    "for i in range(10):# range obj is created and for know how to iterare through it\n",
    "    print(i,end=' HEY ')# to tell wht print should add in the add of line  by default its \\n"
   ]
  },
  {
   "cell_type": "code",
   "execution_count": null,
   "metadata": {},
   "outputs": [],
   "source": [
    "a=[1,2,3,\"spam\",4.4,{5,6},{'alice':1},(1,2,3)]\n",
    "for i in a:\n",
    "    print(i,end=\" \")\n"
   ]
  },
  {
   "cell_type": "code",
   "execution_count": null,
   "metadata": {},
   "outputs": [],
   "source": [
    "it = iter(a)\n",
    "next(it)"
   ]
  },
  {
   "cell_type": "code",
   "execution_count": null,
   "metadata": {},
   "outputs": [],
   "source": [
    "next(it)\n"
   ]
  },
  {
   "cell_type": "code",
   "execution_count": null,
   "metadata": {},
   "outputs": [],
   "source": [
    "next(it)"
   ]
  },
  {
   "cell_type": "code",
   "execution_count": null,
   "metadata": {},
   "outputs": [],
   "source": [
    "next(it)"
   ]
  },
  {
   "cell_type": "code",
   "execution_count": null,
   "metadata": {
    "collapsed": true
   },
   "outputs": [],
   "source": [
    "# so for loop gets the iterator obj over your list and call next method on it untill \n",
    "#two types of ibj in python\n",
    "#iteratble jiska iterable obj ho, jo for loop ko pass hosay"
   ]
  },
  {
   "cell_type": "code",
   "execution_count": null,
   "metadata": {},
   "outputs": [],
   "source": [
    "a.__iter__()#returns new types of iterator obj, what are propeties of interator \n",
    "# __ are special method that corresponds to specific method to python.  The corresponds to regular objects"
   ]
  },
  {
   "cell_type": "code",
   "execution_count": null,
   "metadata": {},
   "outputs": [],
   "source": [
    "a.__len__()"
   ]
  },
  {
   "cell_type": "code",
   "execution_count": null,
   "metadata": {},
   "outputs": [],
   "source": [
    "len(a)"
   ]
  },
  {
   "cell_type": "code",
   "execution_count": null,
   "metadata": {},
   "outputs": [],
   "source": [
    "print(a.__iter__())\n"
   ]
  },
  {
   "cell_type": "code",
   "execution_count": null,
   "metadata": {},
   "outputs": [],
   "source": [
    "print(a.__iter__().__iter__())"
   ]
  },
  {
   "cell_type": "code",
   "execution_count": null,
   "metadata": {
    "collapsed": true
   },
   "outputs": [],
   "source": [
    "#see the above code, both returns same objects(iterator itself) but why ? The for loop must have single executable path, the performance of for loop is extended bec you dont have many paths.  so far loop seemlessly calls iterator obj to get right values.\n",
    "#why we have both iterator and iterable? bec both represent dif things. you know more\n",
    "#but keep in mind iterator has specific characteristic i.e it can be consumed only one. You dont have control how it goes through the elements.\n",
    "#it has to two method iter and next . \n",
    "# The itarators are objects that are consumed only once. The files in python is iterator you consume it once. if you want to resue it you close File and reopen.\n"
   ]
  },
  {
   "cell_type": "code",
   "execution_count": null,
   "metadata": {},
   "outputs": [],
   "source": [
    "#example rec 1;23 goal to iterate two lists in same for\n",
    "name=[\"a\",\"b\",\"c\"]\n",
    "age = [30,45,67,3]\n",
    "list(zip(name,age))\n",
    "#zip prodeuces tuple, if we have lists of not the same size than shortest element will be the end of the list\n",
    "for n,a in zip(name,age):# for calls iterator on zip \n",
    "    print(f\"{n} is {a} years old\" ) # search \" format \" in python docs to see all syntax you can have for formats and see examples. \n",
    "    \n"
   ]
  },
  {
   "cell_type": "code",
   "execution_count": null,
   "metadata": {},
   "outputs": [],
   "source": [
    "#why we have zip\n",
    "z = list(zip(name,age))\n",
    "iter(z)\n",
    "print(z,iter(z),sep=('\\n'))\n"
   ]
  },
  {
   "cell_type": "code",
   "execution_count": null,
   "metadata": {},
   "outputs": [],
   "source": [
    "z= zip(name,age)\n",
    "for i in z:\n",
    "    print(i)\n",
    "    "
   ]
  },
  {
   "cell_type": "code",
   "execution_count": null,
   "metadata": {
    "collapsed": true
   },
   "outputs": [],
   "source": [
    "for i in z:\n",
    "    print(i)\n",
    "#no output bec zip object has been consumed. REC 1.40 . If you want to use it again create zip iterator again. why not list ? see below\n"
   ]
  },
  {
   "cell_type": "code",
   "execution_count": null,
   "metadata": {},
   "outputs": [],
   "source": [
    "%timeit zip(name,age)"
   ]
  },
  {
   "cell_type": "code",
   "execution_count": null,
   "metadata": {},
   "outputs": [],
   "source": [
    "%timeit list(zip(name,age))"
   ]
  },
  {
   "cell_type": "code",
   "execution_count": null,
   "metadata": {
    "collapsed": true
   },
   "outputs": [],
   "source": [
    "#never work through lists work through iterators bec they are effecient. "
   ]
  },
  {
   "cell_type": "code",
   "execution_count": null,
   "metadata": {},
   "outputs": [],
   "source": [
    "a = [a for a in range (10,1_000) if str(a)[::-1]] # this we crete list if you dont want list use generatior by ()\n",
    "print(a)"
   ]
  },
  {
   "cell_type": "code",
   "execution_count": null,
   "metadata": {},
   "outputs": [],
   "source": [
    "a = (a for a in range (10,1_000) if str(a)[::-1]) # this we crete list if you dont want list use generatior by ()\n",
    "print(a)"
   ]
  },
  {
   "cell_type": "code",
   "execution_count": null,
   "metadata": {},
   "outputs": [],
   "source": [
    "print(next(a))"
   ]
  },
  {
   "cell_type": "code",
   "execution_count": null,
   "metadata": {},
   "outputs": [],
   "source": [
    "while True:\n",
    "    i = input (\"next ? \")\n",
    "    if i.lower()==\"y\":\n",
    "        print(next(a))\n",
    "    else:\n",
    "        break\n",
    "        "
   ]
  },
  {
   "cell_type": "code",
   "execution_count": null,
   "metadata": {},
   "outputs": [],
   "source": [
    "# rec 2 18:00 must lis \n",
    "def gen(a):\n",
    "    for i in a:\n",
    "        yield i # i return karaga and  next call pa yahan sa resume karayga \n",
    "g= gen(range(10))\n",
    "print(g)# returns generator object\n",
    "next(g)\n",
    "next(g)"
   ]
  },
  {
   "cell_type": "code",
   "execution_count": null,
   "metadata": {},
   "outputs": [],
   "source": [
    "def gen():\n",
    "    yield 0\n",
    "    print(\" ok 0\")\n",
    "    yield 1\n",
    "    print(\"ok 1\")\n",
    "    \n",
    "g= gen()\n",
    "next(g)\n",
    "next(g)\n",
    "next(g)"
   ]
  },
  {
   "cell_type": "code",
   "execution_count": null,
   "metadata": {},
   "outputs": [],
   "source": [
    " def mydef()\n",
    "    yield \"hello\"\n",
    "    print(\"after hello\")\n",
    "    yield \"hello again \"\n",
    "print(mydef())\n",
    "print(mydef())"
   ]
  },
  {
   "cell_type": "code",
   "execution_count": null,
   "metadata": {},
   "outputs": [],
   "source": [
    "# now lets see scope\n",
    "x=1 # global var that is not in class or in func and is known in everything \n",
    "def f():\n",
    "    print(x)\n",
    "f()\n",
    "    "
   ]
  },
  {
   "cell_type": "code",
   "execution_count": null,
   "metadata": {},
   "outputs": [],
   "source": [
    "# now lets see scope\n",
    "x=1 # global var that is not in class or in func and is known in everything \n",
    "def f():\n",
    "    x=3\n",
    "    print(x)\n",
    "f()"
   ]
  },
  {
   "cell_type": "code",
   "execution_count": null,
   "metadata": {},
   "outputs": [],
   "source": [
    "# now lets see scope\n",
    "x=1 # global var that is not in class or in func and is known in everything \n",
    "def f():\n",
    "    x=3+x\n",
    "    print(x)\n",
    "f()"
   ]
  },
  {
   "cell_type": "code",
   "execution_count": null,
   "metadata": {},
   "outputs": [],
   "source": [
    "#how pyth resolve variable and Lexical binding = bind varibale to space in which it is written. It is define in compile time not run time\n",
    "# RULE   LEGB = Local , enclosing(function in function ) , global , builtin is in same order . REC 2 30\n",
    "# now lets see scope\n",
    "x=1 # I tag x is global var\n",
    "\n",
    "def f():#global object\n",
    "    x=3# compiler says x is var def in func so its local var inside f\n",
    "    print(x)# is x defined locally yes so i print it, if print defined locally? no, E? no G? no. B? yes its in builtin. so yes\n",
    "f()\n",
    "\n",
    "#dir(__builtins__) gives all builtins"
   ]
  },
  {
   "cell_type": "code",
   "execution_count": null,
   "metadata": {},
   "outputs": [],
   "source": [
    "printxx = 1 # yes you define \n",
    "builtins.print(printxx)\n"
   ]
  },
  {
   "cell_type": "code",
   "execution_count": 1,
   "metadata": {},
   "outputs": [
    {
     "name": "stdout",
     "output_type": "stream",
     "text": [
      "6 3\n"
     ]
    }
   ],
   "source": [
    "# now lets see scope\n",
    "x=1 # global var that is not in class or in func and is known in everything \n",
    "y=3\n",
    "def f():\n",
    "    x=3+y\n",
    "    print(x,y)\n",
    "f()"
   ]
  },
  {
   "cell_type": "code",
   "execution_count": null,
   "metadata": {
    "collapsed": true
   },
   "outputs": [],
   "source": [
    "# now lets see scope:: Exclusive \n",
    "# Remember no hieratchy in naming spaces in python. LISTEN REC 2 42\n",
    "x=1 # global var that is not in class or in func and is known in everything \n",
    "y=3\n",
    "def f():\n",
    "    x=3+y\n",
    "    print(x,y)\n",
    "f()"
   ]
  }
 ],
 "metadata": {
  "kernelspec": {
   "display_name": "Python 3",
   "language": "python",
   "name": "python3"
  },
  "language_info": {
   "codemirror_mode": {
    "name": "ipython",
    "version": 3
   },
   "file_extension": ".py",
   "mimetype": "text/x-python",
   "name": "python",
   "nbconvert_exporter": "python",
   "pygments_lexer": "ipython3",
   "version": "3.6.3"
  }
 },
 "nbformat": 4,
 "nbformat_minor": 2
}
