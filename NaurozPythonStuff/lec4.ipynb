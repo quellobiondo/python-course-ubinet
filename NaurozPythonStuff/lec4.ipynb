{
 "cells": [
  {
   "cell_type": "code",
   "execution_count": 3,
   "metadata": {},
   "outputs": [
    {
     "data": {
      "text/plain": [
       "[1, 2, 8, 9]"
      ]
     },
     "execution_count": 3,
     "metadata": {},
     "output_type": "execute_result"
    }
   ],
   "source": [
    "#uniform in term of behaviour. Se ho due referenze che punto allo stesso oggetto, a\n",
    "#allora se una di queste modifica\n",
    "#se applico \n",
    "#SE SOMMO DUE LISTE OTTENGO UNA DUE LISTE,QUESTO SIGNIFICA INPLACE. Questo singifica fare\n",
    "#se sommo due liste ottengo CONCATATION\n",
    "#è una somma i due listste QUINDI E' UNA CONSEQUENCE !! \n",
    "a=[1,2]\n",
    "b=[8,9]\n",
    "a+b\n"
   ]
  },
  {
   "cell_type": "code",
   "execution_count": 4,
   "metadata": {},
   "outputs": [
    {
     "data": {
      "text/plain": [
       "[1, 2, 8, 9]"
      ]
     },
     "execution_count": 4,
     "metadata": {},
     "output_type": "execute_result"
    }
   ],
   "source": [
    "#ED E' FATTA IN PLACE\n",
    "#mentre se facccio\n",
    "a.extend(b)\n",
    "#nel secondo caso ho la stessa reference ma con une Extend memory. QUESTO PROCESSO è DETTO IN PLACE E SERVE PER OTTIMIZZARE \n",
    "a"
   ]
  },
  {
   "cell_type": "code",
   "execution_count": 3,
   "metadata": {
    "collapsed": true
   },
   "outputs": [],
   "source": [
    "#il nome non gha il tipo, o meglio ha come tipo l'oggetto.\n",
    "#DYNAMIC TYPING MEANS: THERE'S NO TYPE REFER TO VARIABLE. MA Il type viene preso quando io mi riferisco ad un oggetto.\n",
    "#list è una sequence of element che aprte da 0 e si incrementa via via\n",
    "#io reference l'elemento\n",
    "#le operazione che posso fare con una sequence: min, max,sum \n",
    "#TUPLE E' UNA SEQUENCE. LA vedremo dopo\n",
    "\n"
   ]
  },
  {
   "cell_type": "code",
   "execution_count": 4,
   "metadata": {
    "collapsed": true
   },
   "outputs": [],
   "source": [
    "a=[]\n"
   ]
  },
  {
   "cell_type": "code",
   "execution_count": 5,
   "metadata": {
    "collapsed": true
   },
   "outputs": [],
   "source": [
    "#TUPLE è intitable list"
   ]
  },
  {
   "cell_type": "code",
   "execution_count": 6,
   "metadata": {
    "collapsed": true
   },
   "outputs": [],
   "source": [
    "t=()\n"
   ]
  },
  {
   "cell_type": "code",
   "execution_count": 7,
   "metadata": {},
   "outputs": [
    {
     "data": {
      "text/plain": [
       "tuple"
      ]
     },
     "execution_count": 7,
     "metadata": {},
     "output_type": "execute_result"
    }
   ],
   "source": [
    "type(t\n",
    ")"
   ]
  },
  {
   "cell_type": "code",
   "execution_count": 8,
   "metadata": {},
   "outputs": [
    {
     "data": {
      "text/plain": [
       "['__add__',\n",
       " '__class__',\n",
       " '__contains__',\n",
       " '__delattr__',\n",
       " '__dir__',\n",
       " '__doc__',\n",
       " '__eq__',\n",
       " '__format__',\n",
       " '__ge__',\n",
       " '__getattribute__',\n",
       " '__getitem__',\n",
       " '__getnewargs__',\n",
       " '__gt__',\n",
       " '__hash__',\n",
       " '__init__',\n",
       " '__init_subclass__',\n",
       " '__iter__',\n",
       " '__le__',\n",
       " '__len__',\n",
       " '__lt__',\n",
       " '__mul__',\n",
       " '__ne__',\n",
       " '__new__',\n",
       " '__reduce__',\n",
       " '__reduce_ex__',\n",
       " '__repr__',\n",
       " '__rmul__',\n",
       " '__setattr__',\n",
       " '__sizeof__',\n",
       " '__str__',\n",
       " '__subclasshook__',\n",
       " 'count',\n",
       " 'index']"
      ]
     },
     "execution_count": 8,
     "metadata": {},
     "output_type": "execute_result"
    }
   ],
   "source": [
    "dir(t)"
   ]
  },
  {
   "cell_type": "code",
   "execution_count": 9,
   "metadata": {
    "collapsed": true
   },
   "outputs": [],
   "source": [
    "#WHY WE CAN DO THE COUNT IN TUPLE ?? Perchè è comunque una sequenza"
   ]
  },
  {
   "cell_type": "code",
   "execution_count": 10,
   "metadata": {},
   "outputs": [
    {
     "ename": "TypeError",
     "evalue": "must be str, not int",
     "output_type": "error",
     "traceback": [
      "\u001b[1;31m---------------------------------------------------------------------------\u001b[0m",
      "\u001b[1;31mTypeError\u001b[0m                                 Traceback (most recent call last)",
      "\u001b[1;32m<ipython-input-10-dd905a29c1de>\u001b[0m in \u001b[0;36m<module>\u001b[1;34m()\u001b[0m\n\u001b[1;32m----> 1\u001b[1;33m \u001b[1;34m\"spam\"\u001b[0m\u001b[1;33m.\u001b[0m\u001b[0mcount\u001b[0m\u001b[1;33m(\u001b[0m\u001b[1;36m1\u001b[0m\u001b[1;33m)\u001b[0m\u001b[1;33m\u001b[0m\u001b[0m\n\u001b[0m",
      "\u001b[1;31mTypeError\u001b[0m: must be str, not int"
     ]
    }
   ],
   "source": [
    "\"spam\".count(1)\n",
    "#non ha senso perchè sto contando cosa ?? "
   ]
  },
  {
   "cell_type": "code",
   "execution_count": 11,
   "metadata": {},
   "outputs": [
    {
     "data": {
      "text/plain": [
       "0"
      ]
     },
     "execution_count": 11,
     "metadata": {},
     "output_type": "execute_result"
    }
   ],
   "source": [
    "\n",
    "[\"spam\"].count(1)"
   ]
  },
  {
   "cell_type": "code",
   "execution_count": 12,
   "metadata": {
    "collapsed": true
   },
   "outputs": [],
   "source": [
    "#qunado io ho list ho da quale parte numeri che contano gli elementi presenti nella lista (quindi anche nella stringa)\n"
   ]
  },
  {
   "cell_type": "code",
   "execution_count": 14,
   "metadata": {},
   "outputs": [
    {
     "name": "stdout",
     "output_type": "stream",
     "text": [
      "395 ns ± 5.95 ns per loop (mean ± std. dev. of 7 runs, 1000000 loops each)\n",
      "214 ns ± 7.41 ns per loop (mean ± std. dev. of 7 runs, 1000000 loops each)\n"
     ]
    }
   ],
   "source": [
    "#voglio dimostarre che count è pià veloe per una stringa piuttost che per una intero\n",
    "%timeit 'p'.count('p')\n",
    "%timeit ['p'].count('p')"
   ]
  },
  {
   "cell_type": "code",
   "execution_count": 15,
   "metadata": {
    "collapsed": true
   },
   "outputs": [],
   "source": [
    "#come si vede contare la stringa è più velcoe "
   ]
  },
  {
   "cell_type": "code",
   "execution_count": 17,
   "metadata": {},
   "outputs": [
    {
     "name": "stdout",
     "output_type": "stream",
     "text": [
      "411 ns ± 9.31 ns per loop (mean ± std. dev. of 7 runs, 1000000 loops each)\n",
      "424 ns ± 3.22 ns per loop (mean ± std. dev. of 7 runs, 1000000 loops each)\n"
     ]
    }
   ],
   "source": [
    "\n",
    "%timeit 'span'.count('p')\n",
    "%timeit ['s','p','a','n'].count('p')"
   ]
  },
  {
   "cell_type": "code",
   "execution_count": 18,
   "metadata": {
    "collapsed": true
   },
   "outputs": [],
   "source": [
    "#PASSIAMO ALLE TYPLE:\n",
    "#PERCHE' è stata introdotta ?? \n",
    "#1) perchè è inimitable\n",
    "#2) è più semplice della lista, qyindi è oiù veloce\n",
    "#esempi\n"
   ]
  },
  {
   "cell_type": "code",
   "execution_count": 19,
   "metadata": {
    "collapsed": true
   },
   "outputs": [],
   "source": [
    "t=()\n",
    "t=(1,)"
   ]
  },
  {
   "cell_type": "code",
   "execution_count": 20,
   "metadata": {},
   "outputs": [
    {
     "name": "stdout",
     "output_type": "stream",
     "text": [
      "(1,)\n"
     ]
    }
   ],
   "source": [
    "print (t)"
   ]
  },
  {
   "cell_type": "code",
   "execution_count": 21,
   "metadata": {
    "collapsed": true
   },
   "outputs": [],
   "source": [
    "#WHY TUPLE HAS COMMA AND IN HE END\n",
    "#io DEVO METTERLO PERCHè ALTRIMENTO BECCO 1 CIè UN INTERO\n",
    "#QUNADO HO UN SOLO lemento devo mettere necessariante la virgola,\n",
    "#QUANDO HO DUE ELEMNTI alloa POSSOS (ma non devo necessariamente) mettere la virgola"
   ]
  },
  {
   "cell_type": "code",
   "execution_count": 25,
   "metadata": {
    "collapsed": true
   },
   "outputs": [],
   "source": [
    "t=()\n",
    "t=[\n",
    "    1,2,3,\n",
    "    4,5,6,\n",
    "    6,7,8,\n",
    "]"
   ]
  },
  {
   "cell_type": "code",
   "execution_count": 29,
   "metadata": {},
   "outputs": [
    {
     "name": "stdout",
     "output_type": "stream",
     "text": [
      "1 2\n"
     ]
    }
   ],
   "source": [
    "\n",
    "#VANTAGGI TUPLE:\n",
    "#E' INIMITABLE\n",
    "#posso scriverla in due modi\n",
    "#WHY I HACE TWO WAY TO WRITE TUPLE ???\n",
    "#tuple unpaccking\n",
    "\n",
    "#la variabile a reference l'oggetto 1, mentee b referenza 2\n",
    "\n",
    "t=1,2\n",
    "a,b=1,2\n",
    "print (a,b)"
   ]
  },
  {
   "cell_type": "code",
   "execution_count": 30,
   "metadata": {},
   "outputs": [
    {
     "name": "stdout",
     "output_type": "stream",
     "text": [
      "1 2\n"
     ]
    }
   ],
   "source": [
    "\n",
    "t=1,2\n",
    "\n",
    "a,b=[1,2]\n",
    "print (a,b)"
   ]
  },
  {
   "cell_type": "code",
   "execution_count": 31,
   "metadata": {
    "collapsed": true
   },
   "outputs": [],
   "source": [
    "#come si vede è los tesso solo che ho un risparmi di memoria"
   ]
  },
  {
   "cell_type": "code",
   "execution_count": 32,
   "metadata": {},
   "outputs": [
    {
     "name": "stdout",
     "output_type": "stream",
     "text": [
      "[0, 1, 2, 3, 4, 5, 6, 7, 8, 9]\n"
     ]
    }
   ],
   "source": [
    "L=list(range(10))\n",
    "print(L)"
   ]
  },
  {
   "cell_type": "code",
   "execution_count": 36,
   "metadata": {
    "collapsed": true
   },
   "outputs": [],
   "source": [
    "a,*b,c=L #a refences the first element, b prende ogni eleemnte with star, and c reference c\n"
   ]
  },
  {
   "cell_type": "code",
   "execution_count": 35,
   "metadata": {},
   "outputs": [
    {
     "name": "stdout",
     "output_type": "stream",
     "text": [
      "0\n",
      "[1, 2, 3, 4, 5, 6, 7, 8]\n",
      "9\n"
     ]
    }
   ],
   "source": [
    "print(a,b,c, sep='\\n')#print prene le variabile che voglio printare, oppure prende alcuni parametri, ad esempio print prende con sep\n",
    "#la separazione"
   ]
  },
  {
   "cell_type": "code",
   "execution_count": 39,
   "metadata": {
    "collapsed": true
   },
   "outputs": [],
   "source": [
    "a,*_,c=L #a refences the first element,*_=non assefnare elemtni ala variabile= singifica che\n",
    "#c'è una sequenza id eleletni che non voglio prendere, and c reference c\n",
    "#_ è una variabile che refence the last one\n"
   ]
  },
  {
   "cell_type": "code",
   "execution_count": 40,
   "metadata": {
    "collapsed": true
   },
   "outputs": [],
   "source": [
    "*a,b=L #a reference all the element except the last one"
   ]
  },
  {
   "cell_type": "code",
   "execution_count": 41,
   "metadata": {},
   "outputs": [
    {
     "name": "stdout",
     "output_type": "stream",
     "text": [
      "[0, 1, 2, 3, 4, 5, 6, 7, 8]\n",
      "9\n",
      "9\n"
     ]
    }
   ],
   "source": [
    "print(a,b,c, sep='\\n')#print prene le variabile che voglio printare, oppure prende alcuni parametri, ad esempio print prende con sep\n"
   ]
  },
  {
   "cell_type": "code",
   "execution_count": 42,
   "metadata": {
    "collapsed": true
   },
   "outputs": [],
   "source": [
    "#_ è una variabile che refence the last one\n",
    "\n"
   ]
  },
  {
   "cell_type": "code",
   "execution_count": 49,
   "metadata": {},
   "outputs": [
    {
     "name": "stdout",
     "output_type": "stream",
     "text": [
      "(1, 2, 'span', False)\n"
     ]
    }
   ],
   "source": [
    "s=()\n",
    "s=(1)\n",
    "s=(1,2,'span', False)\n",
    "#set è un tuple che  contiene elementi imitables\n",
    "print(s)"
   ]
  },
  {
   "cell_type": "code",
   "execution_count": null,
   "metadata": {
    "collapsed": true
   },
   "outputs": [],
   "source": [
    "#PROBLEI CON LE SEQUENZE:\n",
    "a=list(range(100_000_000))"
   ]
  },
  {
   "cell_type": "code",
   "execution_count": 52,
   "metadata": {
    "collapsed": true
   },
   "outputs": [],
   "source": [
    "#hash table continee un array i elementi. L Hash function and then we have the operations\n",
    "#T[alice]= T is the object, cioè l hash tabkle, L ogegtto estre la chhiave alice e la funzione f un operazione su questa alice:\n",
    "#cioè assegna ad alice una serie di numeri da 1 a 8, occupando una cella contenente le tuple\n",
    "#posso avere un certo ounto una collision\n",
    "#T[AL]=18. E' Al' with the hash function va ad esempio ad una cella già occupata\n",
    "#adding element in the list\n",
    "#nella hash table le performance in temini di velocità engono determinati all velocità della hash function.\n",
    "#supponiamo che io io voglia cercare nella table contennte le tuple Al\n",
    "#Quindi sto supponendo di cercare un elemento che ha avuto collision, cioèc che ta occupando una celle già occupagta\n",
    "#per cerrcare l eleemnto il tmepo necessario è\n",
    "#time(f())+O(Al). Tempo per l hash più tempo per cercare O\n",
    "#una buona hash function èquella che mi permette di non avere molte collissione e che mi eprmette di spread di elelents, \n",
    "#very well in the table"
   ]
  },
  {
   "cell_type": "code",
   "execution_count": 64,
   "metadata": {},
   "outputs": [
    {
     "name": "stdout",
     "output_type": "stream",
     "text": [
      "{1, 2, 3}\n",
      "{'Hello', 1.0, (1, 2, 3)}\n"
     ]
    }
   ],
   "source": [
    "#let's try to have an idea of th perfomance of the hash table in pYTHON\n",
    "#set is a set contain only key. Non posso duplicare le chiavi, perchè queste mirimanderebbero\n",
    "\n",
    "# set of integers\n",
    "my_set = {1, 2, 3}\n",
    "print(my_set)\n",
    "\n",
    "# set of mixed datatypes\n",
    "my_set = {1.0, \"Hello\", (1, 2, 3)}\n",
    "print(my_set)\n"
   ]
  },
  {
   "cell_type": "code",
   "execution_count": 65,
   "metadata": {},
   "outputs": [
    {
     "name": "stdout",
     "output_type": "stream",
     "text": [
      "<class 'set'>\n"
     ]
    }
   ],
   "source": [
    "print(set\n",
    "     )"
   ]
  },
  {
   "cell_type": "code",
   "execution_count": 66,
   "metadata": {
    "collapsed": true
   },
   "outputs": [],
   "source": [
    "#set is not a sequence, perchè sono elemnti non posti in ordine\n",
    "#set non ci sono elementi duplicati\n"
   ]
  },
  {
   "cell_type": "code",
   "execution_count": 67,
   "metadata": {},
   "outputs": [
    {
     "name": "stdout",
     "output_type": "stream",
     "text": [
      "{1, 2, 3}\n"
     ]
    }
   ],
   "source": [
    "my_set = {1, 2, 3, 2}\n",
    "print(my_set)"
   ]
  },
  {
   "cell_type": "code",
   "execution_count": 68,
   "metadata": {
    "collapsed": true
   },
   "outputs": [],
   "source": [
    "#come si vede non ho eleemnti duplicati\n"
   ]
  },
  {
   "cell_type": "code",
   "execution_count": 69,
   "metadata": {
    "collapsed": true
   },
   "outputs": [],
   "source": [
    "#A COSA SERVE IL SET ???#\n",
    "#a e\n",
    "#QUAL'è IL LIMITONG FACTOR OF HASH SET: E' L HASH FUNCTION!"
   ]
  },
  {
   "cell_type": "code",
   "execution_count": 70,
   "metadata": {
    "collapsed": true
   },
   "outputs": [],
   "source": [
    "#list è un array of pointer. Se voglio fare \"in\" un test, io devo prima accedere all element e poi devo fare\n",
    "#un test di comparison con la memoria (cioè faccio acces comparison, acces comparison, acces comparison)\n",
    "#mnetre se faccio un test con lo stesso numero di eleletni però contenuti in test. Io devo chiamare una function,\n",
    "# la funzione mi darà una slot, poi vado sulla slot, e vedo, quando accedo allo slot e faccio il comparison.\n",
    "#Quindi of course computing function is slowest then to compute acces e comparison. Però cquand o gli elelemtni dell array sono molti\n",
    "# io non potrò sapere quale delle due è più veloci se non so qunao è veloce la funzione di hash. Ovvio per molti\n",
    "#elementi sarà meglio utilizzare una hash function perchè più velcoe\n",
    "#ovviamenete io devo sapere come la funzione di hash è veloce, per capire se scegliere un set o un list per cercare un elelentno in una \n",
    "#in una struttura o nell altra.\n"
   ]
  },
  {
   "cell_type": "code",
   "execution_count": 78,
   "metadata": {
    "collapsed": true
   },
   "outputs": [],
   "source": [
    "#facciamo dei test\n",
    "a=[1,2,3]"
   ]
  },
  {
   "cell_type": "code",
   "execution_count": 79,
   "metadata": {},
   "outputs": [
    {
     "name": "stdout",
     "output_type": "stream",
     "text": [
      "[1, 2, 3]\n",
      "{1, 2, 3}\n"
     ]
    }
   ],
   "source": [
    "s=set(a)\n",
    "print(a)\n",
    "print(s)"
   ]
  },
  {
   "cell_type": "code",
   "execution_count": 80,
   "metadata": {
    "collapsed": true
   },
   "outputs": [],
   "source": [
    "# ho convertito la mia lista in set. vedremo adesso che quest è più veloce"
   ]
  },
  {
   "cell_type": "code",
   "execution_count": 81,
   "metadata": {},
   "outputs": [
    {
     "name": "stdout",
     "output_type": "stream",
     "text": [
      "98.2 ns ± 3.37 ns per loop (mean ± std. dev. of 7 runs, 10000000 loops each)\n",
      "109 ns ± 1.63 ns per loop (mean ± std. dev. of 7 runs, 10000000 loops each)\n"
     ]
    }
   ],
   "source": [
    "%timeit 1 in a\n",
    "%timeit 1 in s\n",
    "# sto specificando con 1 l ele,nto che voglio trovare nella list o nel set"
   ]
  },
  {
   "cell_type": "code",
   "execution_count": 83,
   "metadata": {
    "collapsed": true
   },
   "outputs": [],
   "source": [
    "#dictionary io posso avere qualsiasi tipo di key e qualsiasi tipo di oggetto. oVVIAMENTE\n",
    "#AFFICHè IO POSSA USARE L'HASH FUNCTION devo \n",
    "d={'a':1,1:'span'}"
   ]
  },
  {
   "cell_type": "code",
   "execution_count": 88,
   "metadata": {
    "collapsed": true
   },
   "outputs": [],
   "source": [
    "\n",
    "#MUTABLE= dictionary, set, dict, int, list\n",
    "#IMMUTABLE=table,string\n",
    "#OSSERVAZIONE : E' IMPORTANTE APOIRE CHE LA LIST E' MUTABLE A DIFFRENZA DEL SET, cioè l'oggetti cambia nel tempo anche mentre\n",
    "#eseguo la stessa. Se la lista camabia nel tempo allora io no ho consistency della mia hash table. Quindi l unica soluzione è \n",
    "#di avere come elementi del dictionary e del set.\n",
    "#l'oggetto che devo dare all hash function devo essere immutable. Ma in python gli ogetti sono MUTABLE O IMMUTABLE DIPENDENEMTNE \n",
    "#DA COME L ABBIAMO VISTO\n",
    "\n",
    "#SE VOLGIO UTILIZZARE UNA TUPLE COME KEYS OF DICTIONARY QUESTO POSSO FARLO PERCHE' LE TUPLE SONO IMUTABLE. qUESTO è UN ALTRO USO \n",
    "#DELLE TUPPLE"
   ]
  },
  {
   "cell_type": "code",
   "execution_count": 89,
   "metadata": {},
   "outputs": [
    {
     "ename": "SyntaxError",
     "evalue": "invalid syntax (<ipython-input-89-435c6047ebe9>, line 1)",
     "output_type": "error",
     "traceback": [
      "\u001b[1;36m  File \u001b[1;32m\"<ipython-input-89-435c6047ebe9>\"\u001b[1;36m, line \u001b[1;32m1\u001b[0m\n\u001b[1;33m    d=['a': 64465651 ,'b':546561, 'c':546564]\u001b[0m\n\u001b[1;37m          ^\u001b[0m\n\u001b[1;31mSyntaxError\u001b[0m\u001b[1;31m:\u001b[0m invalid syntax\n"
     ]
    }
   ],
   "source": [
    "d=['a': 64465651 ,'b':546561, 'c':546564]"
   ]
  },
  {
   "cell_type": "code",
   "execution_count": 103,
   "metadata": {},
   "outputs": [
    {
     "data": {
      "text/plain": [
       "dict"
      ]
     },
     "execution_count": 103,
     "metadata": {},
     "output_type": "execute_result"
    }
   ],
   "source": [
    "d={'a': 64465651,'b':546561, 'c':546564}\n",
    "\n",
    "type(d)"
   ]
  },
  {
   "cell_type": "code",
   "execution_count": 95,
   "metadata": {},
   "outputs": [
    {
     "ename": "SyntaxError",
     "evalue": "invalid syntax (<ipython-input-95-9e5236de866a>, line 1)",
     "output_type": "error",
     "traceback": [
      "\u001b[1;36m  File \u001b[1;32m\"<ipython-input-95-9e5236de866a>\"\u001b[1;36m, line \u001b[1;32m1\u001b[0m\n\u001b[1;33m    d1=dict{a}#BUILD DICTIONARY FROM THE LIST. Ma come ??\u001b[0m\n\u001b[1;37m           ^\u001b[0m\n\u001b[1;31mSyntaxError\u001b[0m\u001b[1;31m:\u001b[0m invalid syntax\n"
     ]
    }
   ],
   "source": [
    "d1=dict{a}\n",
    "#BUILD DICTIONARY FROM THE LIST. Ma come ??\n",
    "#io posso usare due modi per \n",
    "#io ho key ,\n",
    "# value,\n",
    "#dictionary"
   ]
  },
  {
   "cell_type": "code",
   "execution_count": 104,
   "metadata": {},
   "outputs": [
    {
     "name": "stdout",
     "output_type": "stream",
     "text": [
      "dict_keys(['a', 'b', 'c'])\n"
     ]
    },
    {
     "data": {
      "text/plain": [
       "dict_keys"
      ]
     },
     "execution_count": 104,
     "metadata": {},
     "output_type": "execute_result"
    }
   ],
   "source": [
    "#MEMORY VIEW OBJECT #NON L HO CPAITA BENE\n",
    "k=d.keys() #è un oggetto che non contiene chiavi\n",
    "print(k)\n",
    "type(k)"
   ]
  },
  {
   "cell_type": "code",
   "execution_count": 101,
   "metadata": {
    "collapsed": true
   },
   "outputs": [],
   "source": [
    "#to have view in a specific part of the dictionar. Cioè io modifico il dictionary questo mi farà modificare il dictionary\n",
    "#on the memory view posso fare dei test\n"
   ]
  },
  {
   "cell_type": "code",
   "execution_count": 102,
   "metadata": {
    "collapsed": true
   },
   "outputs": [],
   "source": [
    "#pop modifty object e quindi non posso farli per gli IMMUTBALE TYPE cno il"
   ]
  },
  {
   "cell_type": "code",
   "execution_count": 105,
   "metadata": {
    "collapsed": true
   },
   "outputs": [],
   "source": [
    "#three different way to acces at an element of the dictionary#PROVALEEEEE \n",
    "\n",
    "#if 'a' in d\n",
    "#1) print(d['a'])\n",
    "#2) d.get('alice,'not in the dict')    #modify the dictionary with the defaul value\n",
    "#3) d.setdefault('alice', 6464651654)  #\n"
   ]
  },
  {
   "cell_type": "code",
   "execution_count": 106,
   "metadata": {
    "collapsed": true
   },
   "outputs": [],
   "source": [
    "#if test in python\n",
    "#prima cosa, io non avrò parentesi MA E' IMPORTANTE IDENTARE BENE IL CODICE!!\n",
    "#the raccomandation è quella di identare usando lo spazio"
   ]
  },
  {
   "cell_type": "code",
   "execution_count": 107,
   "metadata": {
    "collapsed": true
   },
   "outputs": [],
   "source": [
    "note=10\n"
   ]
  },
  {
   "cell_type": "code",
   "execution_count": 117,
   "metadata": {},
   "outputs": [
    {
     "name": "stdout",
     "output_type": "stream",
     "text": [
      "success\n"
     ]
    }
   ],
   "source": [
    "if note<10:\n",
    " print('failure')\n",
    "elif note >= 10:\n",
    " print('success')\n",
    "else:\n",
    " print('other')"
   ]
  },
  {
   "cell_type": "code",
   "execution_count": 119,
   "metadata": {},
   "outputs": [
    {
     "data": {
      "text/plain": [
       "True"
      ]
     },
     "execution_count": 119,
     "metadata": {},
     "output_type": "execute_result"
    }
   ],
   "source": [
    "#in python io ho un singolo caso che è falso (oin termini di numeri 0, mentre in termini di 1 èè tutto il resto)\n",
    "True or d['a']"
   ]
  },
  {
   "cell_type": "code",
   "execution_count": 120,
   "metadata": {
    "collapsed": true
   },
   "outputs": [],
   "source": [
    "#Shocking= quando ho qualcosa che è true dato da due cose che anche queste sono true, but if false quando solo una delle due è false"
   ]
  },
  {
   "cell_type": "code",
   "execution_count": null,
   "metadata": {
    "collapsed": true
   },
   "outputs": [],
   "source": []
  },
  {
   "cell_type": "code",
   "execution_count": null,
   "metadata": {
    "collapsed": true
   },
   "outputs": [],
   "source": []
  },
  {
   "cell_type": "code",
   "execution_count": null,
   "metadata": {
    "collapsed": true
   },
   "outputs": [],
   "source": []
  },
  {
   "cell_type": "code",
   "execution_count": 123,
   "metadata": {},
   "outputs": [
    {
     "data": {
      "text/plain": [
       "True"
      ]
     },
     "execution_count": 123,
     "metadata": {},
     "output_type": "execute_result"
    }
   ],
   "source": [
    "agenda=d\n",
    "{'a' in d} and d['a']>20"
   ]
  },
  {
   "cell_type": "code",
   "execution_count": 137,
   "metadata": {},
   "outputs": [
    {
     "ename": "Exception",
     "evalue": "invalid note",
     "output_type": "error",
     "traceback": [
      "\u001b[1;31m---------------------------------------------------------------------------\u001b[0m",
      "\u001b[1;31mException\u001b[0m                                 Traceback (most recent call last)",
      "\u001b[1;32m<ipython-input-137-babee58562f3>\u001b[0m in \u001b[0;36m<module>\u001b[1;34m()\u001b[0m\n\u001b[0;32m      6\u001b[0m     \u001b[0mpas\u001b[0m\u001b[1;33m=\u001b[0m\u001b[1;32mTrue\u001b[0m\u001b[1;33m\u001b[0m\u001b[0m\n\u001b[0;32m      7\u001b[0m \u001b[1;32melse\u001b[0m\u001b[1;33m:\u001b[0m\u001b[1;33m\u001b[0m\u001b[0m\n\u001b[1;32m----> 8\u001b[1;33m     \u001b[1;32mraise\u001b[0m \u001b[0mException\u001b[0m \u001b[1;33m(\u001b[0m\u001b[1;34m'invalid note'\u001b[0m\u001b[1;33m)\u001b[0m\u001b[1;33m\u001b[0m\u001b[0m\n\u001b[0m\u001b[0;32m      9\u001b[0m \u001b[1;33m\u001b[0m\u001b[0m\n\u001b[0;32m     10\u001b[0m \u001b[0mprint\u001b[0m\u001b[1;33m(\u001b[0m\u001b[0mpas\u001b[0m\u001b[1;33m)\u001b[0m\u001b[1;33m\u001b[0m\u001b[0m\n",
      "\u001b[1;31mException\u001b[0m: invalid note"
     ]
    }
   ],
   "source": [
    "note=30\n",
    "\n",
    "if 0 < note and note < 10:\n",
    "    pas = False\n",
    "elif 10 <=note and note <=20:\n",
    "    pas=True\n",
    "else:\n",
    "    raise Exception ('invalid note')\n",
    "                     \n",
    "print(pas)\n",
    "                     "
   ]
  },
  {
   "cell_type": "code",
   "execution_count": 147,
   "metadata": {},
   "outputs": [
    {
     "name": "stdout",
     "output_type": "stream",
     "text": [
      "[0, 4, 16, 36, 64]\n"
     ]
    }
   ],
   "source": [
    "L=[]\n",
    "for i in range(10):\n",
    "     if i % 2 == 0:\n",
    "      L.append(i**2) #quadrato die nueri\n",
    "print(L)"
   ]
  },
  {
   "cell_type": "code",
   "execution_count": 149,
   "metadata": {},
   "outputs": [
    {
     "data": {
      "text/plain": [
       "{0,\n",
       " 4,\n",
       " 16,\n",
       " 36,\n",
       " 64,\n",
       " 100,\n",
       " 144,\n",
       " 196,\n",
       " 256,\n",
       " 324,\n",
       " 400,\n",
       " 484,\n",
       " 576,\n",
       " 676,\n",
       " 784,\n",
       " 900,\n",
       " 1024,\n",
       " 1156,\n",
       " 1296,\n",
       " 1444,\n",
       " 1600,\n",
       " 1764,\n",
       " 1936,\n",
       " 2116,\n",
       " 2304,\n",
       " 2500,\n",
       " 2704,\n",
       " 2916,\n",
       " 3136,\n",
       " 3364,\n",
       " 3600,\n",
       " 3844,\n",
       " 4096,\n",
       " 4356,\n",
       " 4624,\n",
       " 4900,\n",
       " 5184,\n",
       " 5476,\n",
       " 5776,\n",
       " 6084,\n",
       " 6400,\n",
       " 6724,\n",
       " 7056,\n",
       " 7396,\n",
       " 7744,\n",
       " 8100,\n",
       " 8464,\n",
       " 8836,\n",
       " 9216,\n",
       " 9604}"
      ]
     },
     "execution_count": 149,
     "metadata": {},
     "output_type": "execute_result"
    }
   ],
   "source": [
    "#Abbiamo fatto iuna loist list comprheinsio. però questa list comprenhiesion viene estesa anche ai set e ai dictionary\n",
    "a=list(range(100))*100\n",
    "{i**2 for i in a if i%2 == 0}\n",
    "# questo fa il quadrato una sola volta senza ripetere gli elelemtni."
   ]
  },
  {
   "cell_type": "code",
   "execution_count": 150,
   "metadata": {
    "collapsed": true
   },
   "outputs": [],
   "source": [
    "#vogliamo realizzare un \n",
    "palindrome =[]\n",
    "for n in range(1_1000):\n",
    "    if str(n)==str(n)[::-1]:\n",
    "        palindrome.append(n)"
   ]
  },
  {
   "cell_type": "code",
   "execution_count": 153,
   "metadata": {},
   "outputs": [
    {
     "data": {
      "text/plain": [
       "[0,\n",
       " 1,\n",
       " 2,\n",
       " 3,\n",
       " 4,\n",
       " 5,\n",
       " 6,\n",
       " 7,\n",
       " 8,\n",
       " 9,\n",
       " 11,\n",
       " 22,\n",
       " 33,\n",
       " 44,\n",
       " 55,\n",
       " 66,\n",
       " 77,\n",
       " 88,\n",
       " 99,\n",
       " 101,\n",
       " 111,\n",
       " 121,\n",
       " 131,\n",
       " 141,\n",
       " 151,\n",
       " 161,\n",
       " 171,\n",
       " 181,\n",
       " 191,\n",
       " 202,\n",
       " 212,\n",
       " 222,\n",
       " 232,\n",
       " 242,\n",
       " 252,\n",
       " 262,\n",
       " 272,\n",
       " 282,\n",
       " 292,\n",
       " 303,\n",
       " 313,\n",
       " 323,\n",
       " 333,\n",
       " 343,\n",
       " 353,\n",
       " 363,\n",
       " 373,\n",
       " 383,\n",
       " 393,\n",
       " 404,\n",
       " 414,\n",
       " 424,\n",
       " 434,\n",
       " 444,\n",
       " 454,\n",
       " 464,\n",
       " 474,\n",
       " 484,\n",
       " 494,\n",
       " 505,\n",
       " 515,\n",
       " 525,\n",
       " 535,\n",
       " 545,\n",
       " 555,\n",
       " 565,\n",
       " 575,\n",
       " 585,\n",
       " 595,\n",
       " 606,\n",
       " 616,\n",
       " 626,\n",
       " 636,\n",
       " 646,\n",
       " 656,\n",
       " 666,\n",
       " 676,\n",
       " 686,\n",
       " 696,\n",
       " 707,\n",
       " 717,\n",
       " 727,\n",
       " 737,\n",
       " 747,\n",
       " 757,\n",
       " 767,\n",
       " 777,\n",
       " 787,\n",
       " 797,\n",
       " 808,\n",
       " 818,\n",
       " 828,\n",
       " 838,\n",
       " 848,\n",
       " 858,\n",
       " 868,\n",
       " 878,\n",
       " 888,\n",
       " 898,\n",
       " 909,\n",
       " 919,\n",
       " 929,\n",
       " 939,\n",
       " 949,\n",
       " 959,\n",
       " 969,\n",
       " 979,\n",
       " 989,\n",
       " 999,\n",
       " 1001,\n",
       " 1111,\n",
       " 1221,\n",
       " 1331,\n",
       " 1441,\n",
       " 1551,\n",
       " 1661,\n",
       " 1771,\n",
       " 1881,\n",
       " 1991,\n",
       " 2002,\n",
       " 2112,\n",
       " 2222,\n",
       " 2332,\n",
       " 2442,\n",
       " 2552,\n",
       " 2662,\n",
       " 2772,\n",
       " 2882,\n",
       " 2992,\n",
       " 3003,\n",
       " 3113,\n",
       " 3223,\n",
       " 3333,\n",
       " 3443,\n",
       " 3553,\n",
       " 3663,\n",
       " 3773,\n",
       " 3883,\n",
       " 3993,\n",
       " 4004,\n",
       " 4114,\n",
       " 4224,\n",
       " 4334,\n",
       " 4444,\n",
       " 4554,\n",
       " 4664,\n",
       " 4774,\n",
       " 4884,\n",
       " 4994,\n",
       " 5005,\n",
       " 5115,\n",
       " 5225,\n",
       " 5335,\n",
       " 5445,\n",
       " 5555,\n",
       " 5665,\n",
       " 5775,\n",
       " 5885,\n",
       " 5995,\n",
       " 6006,\n",
       " 6116,\n",
       " 6226,\n",
       " 6336,\n",
       " 6446,\n",
       " 6556,\n",
       " 6666,\n",
       " 6776,\n",
       " 6886,\n",
       " 6996,\n",
       " 7007,\n",
       " 7117,\n",
       " 7227,\n",
       " 7337,\n",
       " 7447,\n",
       " 7557,\n",
       " 7667,\n",
       " 7777,\n",
       " 7887,\n",
       " 7997,\n",
       " 8008,\n",
       " 8118,\n",
       " 8228,\n",
       " 8338,\n",
       " 8448,\n",
       " 8558,\n",
       " 8668,\n",
       " 8778,\n",
       " 8888,\n",
       " 8998,\n",
       " 9009,\n",
       " 9119,\n",
       " 9229,\n",
       " 9339,\n",
       " 9449,\n",
       " 9559,\n",
       " 9669,\n",
       " 9779,\n",
       " 9889,\n",
       " 9999,\n",
       " 10001,\n",
       " 10101,\n",
       " 10201,\n",
       " 10301,\n",
       " 10401,\n",
       " 10501,\n",
       " 10601,\n",
       " 10701,\n",
       " 10801,\n",
       " 10901]"
      ]
     },
     "execution_count": 153,
     "metadata": {},
     "output_type": "execute_result"
    }
   ],
   "source": [
    "[n for n in range(1_1000) if str(n)==str(n)[::-1]] #questa è una list comprhension. QUANDO IMPARERò A CONTROLLARLE DIVENTERò BRAVO\n",
    "#A CHE SERVE LA LIST COMPRENSION: io ho una sequenza e voglio operare qualcosa su questa esperessione, inoltre\n",
    "#voglio ancge controllare questa espressione"
   ]
  },
  {
   "cell_type": "code",
   "execution_count": null,
   "metadata": {
    "collapsed": true
   },
   "outputs": [],
   "source": []
  }
 ],
 "metadata": {
  "kernelspec": {
   "display_name": "Python 3",
   "language": "python",
   "name": "python3"
  },
  "language_info": {
   "codemirror_mode": {
    "name": "ipython",
    "version": 3
   },
   "file_extension": ".py",
   "mimetype": "text/x-python",
   "name": "python",
   "nbconvert_exporter": "python",
   "pygments_lexer": "ipython3",
   "version": "3.6.3"
  }
 },
 "nbformat": 4,
 "nbformat_minor": 2
}
