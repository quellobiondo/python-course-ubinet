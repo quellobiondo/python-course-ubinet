{
 "cells": [
  {
   "cell_type": "markdown",
   "metadata": {
    "collapsed": true
   },
   "source": [
    "## Lecture 4\n",
    "**25/01/2018**\n",
    "\n",
    "## The dir method\n",
    "\n",
    "The builtin function [dir](https://docs.python.org/3/library/functions.html#dir) can be useful to explore the names\n",
    "inside a certain python scope.\n",
    "\n",
    "The method accepts one parameter.\n",
    "\n",
    "Used with \n",
    "1. a module -> module’s attributes\n",
    "2. a type or class object ->  names of the attributes (recursively in the hierarchy).\n",
    "3. object -> It's attributes names, the names of its class’s attributes, and recursively of the attributes of its class’s base classes.\n",
    "\n",
    "Without arguments, dir() lists the names you have defined currently"
   ]
  },
  {
   "cell_type": "markdown",
   "metadata": {},
   "source": [
    "#### Operations with lists\n",
    "\n",
    "How to see all the ccommands available inside the **list** Object?\n",
    "Simply use the 'dir' command."
   ]
  },
  {
   "cell_type": "code",
   "execution_count": 8,
   "metadata": {
    "scrolled": false
   },
   "outputs": [
    {
     "data": {
      "text/plain": [
       "['__add__',\n",
       " '__class__',\n",
       " '__contains__',\n",
       " '__delattr__',\n",
       " '__delitem__',\n",
       " '__dir__',\n",
       " '__doc__',\n",
       " '__eq__',\n",
       " '__format__',\n",
       " '__ge__',\n",
       " '__getattribute__',\n",
       " '__getitem__',\n",
       " '__gt__',\n",
       " '__hash__',\n",
       " '__iadd__',\n",
       " '__imul__',\n",
       " '__init__',\n",
       " '__init_subclass__',\n",
       " '__iter__',\n",
       " '__le__',\n",
       " '__len__',\n",
       " '__lt__',\n",
       " '__mul__',\n",
       " '__ne__',\n",
       " '__new__',\n",
       " '__reduce__',\n",
       " '__reduce_ex__',\n",
       " '__repr__',\n",
       " '__reversed__',\n",
       " '__rmul__',\n",
       " '__setattr__',\n",
       " '__setitem__',\n",
       " '__sizeof__',\n",
       " '__str__',\n",
       " '__subclasshook__',\n",
       " 'append',\n",
       " 'clear',\n",
       " 'copy',\n",
       " 'count',\n",
       " 'extend',\n",
       " 'index',\n",
       " 'insert',\n",
       " 'pop',\n",
       " 'remove',\n",
       " 'reverse',\n",
       " 'sort']"
      ]
     },
     "execution_count": 8,
     "metadata": {},
     "output_type": "execute_result"
    }
   ],
   "source": [
    "dir(list)"
   ]
  },
  {
   "cell_type": "markdown",
   "metadata": {},
   "source": [
    "###### How to concatenate lists\n",
    "\n",
    "A very basic list operation is to extend a list with new elements.\n",
    "\n",
    "If we want to add **another list** this is achieved using *extend*\n",
    "\n",
    "Note that in this case is modified the reference of the object that has been extended.\n",
    "The list passed as parameter will be appended at the end of it.\n",
    "\n",
    "![list-extends-memory.PNG](resources/images/l3-lists/list-extends-memory.PNG)"
   ]
  },
  {
   "cell_type": "code",
   "execution_count": 11,
   "metadata": {
    "scrolled": true
   },
   "outputs": [
    {
     "name": "stdout",
     "output_type": "stream",
     "text": [
      "a:  [1, 2]\n",
      "b:  [3, 4]\n",
      "a append 42 [1, 2, 42]\n",
      "a extended with b:  [1, 2, 42, 3, 4]\n"
     ]
    }
   ],
   "source": [
    "a = [1, 2]\n",
    "b = [3, 4]\n",
    "print('a: ', a)\n",
    "print('b: ', b)\n",
    "a.extend(b)\n",
    "print('a extended with b: ', a)"
   ]
  },
  {
   "cell_type": "markdown",
   "metadata": {},
   "source": [
    "Pay attention to the semantic of *extend* and *append*.\n",
    "The first expect a sequence to be added at the end of the list, the latter expects some object\n",
    "to be appended in the last position of the list.\n",
    "\n",
    "append and extend give different results!"
   ]
  },
  {
   "cell_type": "code",
   "execution_count": 12,
   "metadata": {},
   "outputs": [
    {
     "name": "stdout",
     "output_type": "stream",
     "text": [
      "a:  [1, 2]\n",
      "b:  [3, 4]\n",
      "a append b:  [1, 2, [3, 4]]\n",
      "a extend b:  [1, 2, 3, 4]\n"
     ]
    }
   ],
   "source": [
    "a = [1, 2]\n",
    "b = [3, 4]\n",
    "print('a: ', a)\n",
    "print('b: ', b)\n",
    "# use of clone to create a copy of our list\n",
    "a_copy = a.copy()\n",
    "\n",
    "a.extend(b)\n",
    "a_copy.append(b)\n",
    "\n",
    "print('a extend b: ', a)\n",
    "print('a append b: ', a_copy)"
   ]
  },
  {
   "cell_type": "markdown",
   "metadata": {},
   "source": [
    "List concatenation can be performed using the *+*\n",
    "\n",
    "But instead of editing the first variable another one is created"
   ]
  },
  {
   "cell_type": "code",
   "execution_count": 9,
   "metadata": {
    "scrolled": true
   },
   "outputs": [
    {
     "name": "stdout",
     "output_type": "stream",
     "text": [
      "a:  [1, 2]\n",
      "b:  [3, 4]\n",
      "a + b:  [1, 2, 3, 4]\n"
     ]
    }
   ],
   "source": [
    "a = [1,2]\n",
    "b = [3,4]\n",
    "d = a + b \n",
    "print('a: ', a)\n",
    "print('b: ', b)\n",
    "print('a + b: ', d)"
   ]
  },
  {
   "cell_type": "markdown",
   "metadata": {},
   "source": [
    "## Operations with strings\n",
    "\n",
    "Let's checkout the available methods of the builtin *str* type.\n",
    "However note that the dir function on an object string is not working. The dir function is just made \n",
    "for the interactive console, and for verboses purposes (to get more info to YOU!), so is not always\n",
    "reliable\n",
    "\n",
    "[Here](https://docs.python.org/3/library/string.html#module-string) is the online string reference"
   ]
  },
  {
   "cell_type": "code",
   "execution_count": 18,
   "metadata": {},
   "outputs": [
    {
     "name": "stdout",
     "output_type": "stream",
     "text": [
      "Methods from string  asdka\n",
      "Methods from str type\n"
     ]
    },
    {
     "data": {
      "text/plain": [
       "['__add__',\n",
       " '__class__',\n",
       " '__contains__',\n",
       " '__delattr__',\n",
       " '__dir__',\n",
       " '__doc__',\n",
       " '__eq__',\n",
       " '__format__',\n",
       " '__ge__',\n",
       " '__getattribute__',\n",
       " '__getitem__',\n",
       " '__getnewargs__',\n",
       " '__gt__',\n",
       " '__hash__',\n",
       " '__init__',\n",
       " '__init_subclass__',\n",
       " '__iter__',\n",
       " '__le__',\n",
       " '__len__',\n",
       " '__lt__',\n",
       " '__mod__',\n",
       " '__mul__',\n",
       " '__ne__',\n",
       " '__new__',\n",
       " '__reduce__',\n",
       " '__reduce_ex__',\n",
       " '__repr__',\n",
       " '__rmod__',\n",
       " '__rmul__',\n",
       " '__setattr__',\n",
       " '__sizeof__',\n",
       " '__str__',\n",
       " '__subclasshook__',\n",
       " 'capitalize',\n",
       " 'casefold',\n",
       " 'center',\n",
       " 'count',\n",
       " 'encode',\n",
       " 'endswith',\n",
       " 'expandtabs',\n",
       " 'find',\n",
       " 'format',\n",
       " 'format_map',\n",
       " 'index',\n",
       " 'isalnum',\n",
       " 'isalpha',\n",
       " 'isdecimal',\n",
       " 'isdigit',\n",
       " 'isidentifier',\n",
       " 'islower',\n",
       " 'isnumeric',\n",
       " 'isprintable',\n",
       " 'isspace',\n",
       " 'istitle',\n",
       " 'isupper',\n",
       " 'join',\n",
       " 'ljust',\n",
       " 'lower',\n",
       " 'lstrip',\n",
       " 'maketrans',\n",
       " 'partition',\n",
       " 'replace',\n",
       " 'rfind',\n",
       " 'rindex',\n",
       " 'rjust',\n",
       " 'rpartition',\n",
       " 'rsplit',\n",
       " 'rstrip',\n",
       " 'split',\n",
       " 'splitlines',\n",
       " 'startswith',\n",
       " 'strip',\n",
       " 'swapcase',\n",
       " 'title',\n",
       " 'translate',\n",
       " 'upper',\n",
       " 'zfill']"
      ]
     },
     "execution_count": 18,
     "metadata": {},
     "output_type": "execute_result"
    }
   ],
   "source": [
    "someString = 'lolDoesntwork'\n",
    "print(\"Methods from string\", someString)\n",
    "dir(someString)\n",
    "type(someString)\n",
    "print(\"Methods from str type\")\n",
    "dir(str)"
   ]
  },
  {
   "cell_type": "markdown",
   "metadata": {
    "collapsed": true
   },
   "source": [
    "**TIP**\n",
    "\n",
    "Inside the Jupyter notebook use \"Space + Tab\" keys to have the possible methods suggestions"
   ]
  },
  {
   "cell_type": "code",
   "execution_count": 20,
   "metadata": {
    "scrolled": true
   },
   "outputs": [
    {
     "data": {
      "text/plain": [
       "1"
      ]
     },
     "execution_count": 20,
     "metadata": {},
     "output_type": "execute_result"
    }
   ],
   "source": [
    "\"spam\".count('s') # count method"
   ]
  },
  {
   "cell_type": "code",
   "execution_count": 25,
   "metadata": {},
   "outputs": [
    {
     "name": "stdout",
     "output_type": "stream",
     "text": [
      "s in array with a 'spam' string: 0\n",
      "spam in array with a 'spam' string: 1\n"
     ]
    }
   ],
   "source": [
    "print(\"s in array with a 'spam' string:\", [\"spam\"].count(\"s\"))\n",
    "print(\"spam in array with a 'spam' string:\", [\"spam\"].count(\"spam\"))"
   ]
  },
  {
   "cell_type": "markdown",
   "metadata": {},
   "source": [
    "**Interesting thing**\n",
    "\n",
    "'import this' is an easter egg inside Python, proposed with the [PEP 20](https://www.python.org/dev/peps/pep-0020/)"
   ]
  },
  {
   "cell_type": "code",
   "execution_count": 4,
   "metadata": {},
   "outputs": [
    {
     "name": "stdout",
     "output_type": "stream",
     "text": [
      "The Zen of Python, by Tim Peters\n",
      "\n",
      "Beautiful is better than ugly.\n",
      "Explicit is better than implicit.\n",
      "Simple is better than complex.\n",
      "Complex is better than complicated.\n",
      "Flat is better than nested.\n",
      "Sparse is better than dense.\n",
      "Readability counts.\n",
      "Special cases aren't special enough to break the rules.\n",
      "Although practicality beats purity.\n",
      "Errors should never pass silently.\n",
      "Unless explicitly silenced.\n",
      "In the face of ambiguity, refuse the temptation to guess.\n",
      "There should be one-- and preferably only one --obvious way to do it.\n",
      "Although that way may not be obvious at first unless you're Dutch.\n",
      "Now is better than never.\n",
      "Although never is often better than *right* now.\n",
      "If the implementation is hard to explain, it's a bad idea.\n",
      "If the implementation is easy to explain, it may be a good idea.\n",
      "Namespaces are one honking great idea -- let's do more of those!\n"
     ]
    }
   ],
   "source": [
    "import this"
   ]
  },
  {
   "cell_type": "markdown",
   "metadata": {},
   "source": [
    "#### Performance evaluation of the count method\n",
    "\n",
    "conclusions? boh"
   ]
  },
  {
   "cell_type": "code",
   "execution_count": 22,
   "metadata": {
    "scrolled": true
   },
   "outputs": [
    {
     "name": "stdout",
     "output_type": "stream",
     "text": [
      "300 ns ± 8.5 ns per loop (mean ± std. dev. of 7 runs, 1000000 loops each)\n",
      "180 ns ± 2.62 ns per loop (mean ± std. dev. of 7 runs, 10000000 loops each)\n"
     ]
    }
   ],
   "source": [
    "%timeit 'r'.count('r')\n",
    "%timeit ['r'].count('r')"
   ]
  },
  {
   "cell_type": "code",
   "execution_count": 17,
   "metadata": {
    "scrolled": true
   },
   "outputs": [
    {
     "name": "stdout",
     "output_type": "stream",
     "text": [
      "274 ns ± 0.508 ns per loop (mean ± std. dev. of 7 runs, 1000000 loops each)\n",
      "301 ns ± 1.3 ns per loop (mean ± std. dev. of 7 runs, 1000000 loops each)\n"
     ]
    }
   ],
   "source": [
    "%timeit 'spam'.count('p')\n",
    "%timeit ['s','p','a','m'].count('p')"
   ]
  },
  {
   "cell_type": "markdown",
   "metadata": {},
   "source": [
    "# Collections (continuous)\n",
    "\n",
    "List have already been treated [here](lol). The nexts are Tuples and Dictionaries"
   ]
  },
  {
   "cell_type": "markdown",
   "metadata": {},
   "source": [
    "## Tuples\n",
    "The [Tuples](https://docs.python.org/3/library/stdtypes.html#tuple) are sequences similar to the List, but are **immutable sequences**. A tuple can be composed by an arbitrary number of elements, of any type.\n",
    "\n",
    "Constructor:\n",
    "- the empty tuple: ()\n",
    "- a singleton tuple: a, or (a,)\n",
    "- Separating items with commas: a, b, c or (a, b, c)\n",
    "- Using the tuple() built-in: tuple() or tuple(iterable)\n",
    "\n",
    "Note that it is actually the comma which makes a tuple, not the parentheses. The parentheses are optional.\n",
    "\n",
    "[Here](https://docs.python.org/3.6/tutorial/datastructures.html#tuples-and-sequences) more on Tuple and sequences.\n",
    "\n",
    "Legaut Tuple video\n",
    "\n",
    "---- \n",
    "\n",
    "[![IMAGE ALT TEXT HERE](https://img.youtube.com/vi/ayDFICA3kxs/0.jpg)](https://www.youtube.com/watch?v=ayDFICA3kxs)"
   ]
  },
  {
   "cell_type": "code",
   "execution_count": 2,
   "metadata": {},
   "outputs": [
    {
     "name": "stdout",
     "output_type": "stream",
     "text": [
      "('spam', 1, 4.3, True, [])\n"
     ]
    }
   ],
   "source": [
    "\n",
    "t=()   #empty\n",
    "t=(1,) #singleton\n",
    "t=('spam',1,4.3,True,[]) #tuple of multiple elements\n",
    "print(t)"
   ]
  },
  {
   "cell_type": "code",
   "execution_count": 3,
   "metadata": {},
   "outputs": [
    {
     "ename": "TypeError",
     "evalue": "'tuple' object does not support item assignment",
     "output_type": "error",
     "traceback": [
      "\u001b[1;31m---------------------------------------------------------------------------\u001b[0m",
      "\u001b[1;31mTypeError\u001b[0m                                 Traceback (most recent call last)",
      "\u001b[1;32m<ipython-input-3-6676f85ed2c8>\u001b[0m in \u001b[0;36m<module>\u001b[1;34m()\u001b[0m\n\u001b[0;32m      1\u001b[0m \u001b[1;31m# However, they are immutable\u001b[0m\u001b[1;33m\u001b[0m\u001b[1;33m\u001b[0m\u001b[0m\n\u001b[1;32m----> 2\u001b[1;33m \u001b[0mt\u001b[0m\u001b[1;33m[\u001b[0m\u001b[1;36m0\u001b[0m\u001b[1;33m]\u001b[0m \u001b[1;33m=\u001b[0m \u001b[1;34m'not spam'\u001b[0m\u001b[1;33m\u001b[0m\u001b[0m\n\u001b[0m",
      "\u001b[1;31mTypeError\u001b[0m: 'tuple' object does not support item assignment"
     ]
    }
   ],
   "source": [
    "# However, they are immutable\n",
    "t[0] = 'not spam' # Generate TypeError: 'tuple' object does not support item assignement"
   ]
  },
  {
   "cell_type": "markdown",
   "metadata": {},
   "source": [
    "#### Assigmenent and multiple assignement of tuples variables"
   ]
  },
  {
   "cell_type": "code",
   "execution_count": 27,
   "metadata": {
    "scrolled": true
   },
   "outputs": [
    {
     "name": "stdout",
     "output_type": "stream",
     "text": [
      "(1, 2)\n"
     ]
    }
   ],
   "source": [
    "t=1,2 # tuple without parentheses\n",
    "print(t)"
   ]
  },
  {
   "cell_type": "code",
   "execution_count": 26,
   "metadata": {},
   "outputs": [
    {
     "name": "stdout",
     "output_type": "stream",
     "text": [
      "1 3\n"
     ]
    }
   ],
   "source": [
    "a,b=1,3 # or =(1,3) or =[1,3] the 3 works\n",
    "print(a,b)"
   ]
  },
  {
   "cell_type": "code",
   "execution_count": 32,
   "metadata": {},
   "outputs": [
    {
     "name": "stdout",
     "output_type": "stream",
     "text": [
      "[0, 1, 2, 3, 4, 5, 6, 7, 8, 9]\n",
      "a=0\n",
      "b=[1, 2, 3, 4, 5, 6, 7]\n",
      "c=8\n",
      "d=9\n",
      "\n"
     ]
    }
   ],
   "source": [
    "L=list(range(10))\n",
    "print(L)\n",
    "\n",
    "a,*b,c,d=L # The middle *b element captures everything that is not assigned\n",
    "print(f\"a={a}\\nb={b}\\nc={c}\\nd={d}\\n\")"
   ]
  },
  {
   "cell_type": "markdown",
   "metadata": {},
   "source": [
    "## Set\n",
    "\n",
    "A [set](https://docs.python.org/3.6/library/stdtypes.html#set) is an unsorted collection of objects in which there are no repetitions.\n",
    "In python sets are created with '{ a , b }' or with the set() object.\n",
    "\n",
    "They support with builtin functions the union, difference, disjoint, intersection operations on sets.\n",
    "\n",
    "Legaut Set video\n",
    "\n",
    "---- \n",
    "\n",
    "[![IMAGE ALT TEXT HERE](https://img.youtube.com/vi/Ck_26R5HKUs/0.jpg)](https://www.youtube.com/watch?v=Ck_26R5HKUs)"
   ]
  },
  {
   "cell_type": "code",
   "execution_count": 11,
   "metadata": {},
   "outputs": [
    {
     "name": "stdout",
     "output_type": "stream",
     "text": [
      "{'pear', 'orange', 'banana', 'apple'}\n",
      "{'pear', 'orange', 'banana', 'apple'}\n",
      "{'u', 'c', 'q', 'h', 'l', 'v', 'a', 's', 'w', 'r', 'i', 'n', 'f', 'd', 't', 'y', 'o', 'e'}\n",
      "True\n",
      "False\n"
     ]
    }
   ],
   "source": [
    "# Examples of creation and membership testing\n",
    "abasket = {'apple', 'orange', 'apple', 'pear', 'orange', 'banana'}\n",
    "print(abasket)                      # show that duplicates have been removed\n",
    "anotherbasket = set(abasket)        # set() expects a iterable as parameter\n",
    "print(anotherbasket)\n",
    "\n",
    "# Have you noticed that a string is a sequence?\n",
    "mystringthatisasequence = 'definitivelyasequencewithalotofletters'\n",
    "mysetofwords = set(mystringthatisasequence)\n",
    "print(mysetofwords)\n",
    "\n",
    "print('orange' in abasket)                 # fast membership testing \n",
    "print('crabgrass' in abasket) "
   ]
  },
  {
   "cell_type": "markdown",
   "metadata": {},
   "source": [
    "![set-memory.PNG](resources/images/l3-lists/set-mem.PNG)"
   ]
  },
  {
   "cell_type": "code",
   "execution_count": 12,
   "metadata": {
    "scrolled": true
   },
   "outputs": [
    {
     "name": "stdout",
     "output_type": "stream",
     "text": [
      "a: {'c', 'b', 'a', 'd', 'r'}\n",
      "b: {'c', 'l', 'a', 'z', 'm'}\n",
      "a-b: {'r', 'b', 'd'}\n",
      "a|b: {'c', 'b', 'a', 'l', 'z', 'm', 'd', 'r'}\n",
      "a&b {'a', 'c'}\n",
      "a^b {'m', 'b', 'd', 'l', 'z', 'r'}\n"
     ]
    }
   ],
   "source": [
    "# Operations on sets\n",
    "\n",
    "a = set('abracadabra')\n",
    "b = set('alacazam')\n",
    "print('a:', a) # unique letters in a\n",
    "print('b:', b) # unique letters in b\n",
    "print('a-b:', a - b) # letters in a but not in b\n",
    "print('a|b:', a | b) # letters in a or b or both\n",
    "print('a&b', a & b) # letters in both a and b\n",
    "print('a^b', a ^ b) # Letters in a or b but not both        "
   ]
  },
  {
   "cell_type": "markdown",
   "metadata": {},
   "source": [
    "##### Performance consideration\n",
    "In case **you don't care about the sequence** and **you don't want repetitions** you have to use the set() instead of the list() data-structure.\n",
    "The performance of access for the set is O(log(N)) for each operation. In average is faster than the list for retrieval (that has complexity O(N))\n",
    "\n",
    "The O(log(N)) (at least in java...) complexity of access to the set is due to the usage of hashes, that can be used to build a tree to index in an efficent way all the elements.\n",
    "\n",
    "Problems understading this? Don't worry, Legaut made a video also on this.\n",
    "\n",
    "----\n",
    "\n",
    "[![IMAGE ALT TEXT HERE](https://img.youtube.com/vi/IhJo8sXLfVw/0.jpg)](https://www.youtube.com/watch?v=IhJo8sXLfVw)\n",
    "\n"
   ]
  },
  {
   "cell_type": "markdown",
   "metadata": {},
   "source": [
    "## Dictionary\n",
    "\n",
    "The [dictionaries or dict](https://docs.python.org/3.6/library/stdtypes.html#mapping-types-dict) are builtin data types, mutable, that maps key immutable objects to other generic objects. The keys can't be mutable objects (like lists).\n",
    "\n",
    "It is best to think of a dictionary as an unordered set of key: value pairs, with the requirement that the keys are unique (within one dictionary)\n",
    "\n",
    "The objects returned by dict.keys(), dict.values() and dict.items() are view objects. They provide a dynamic view on the dictionary’s entries, which means that when the dictionary changes, the view reflects these changes.\n",
    "\n",
    "Dictionary views can be iterated over to yield their respective data, and support membership tests.\n",
    "\n",
    "In Python all the immutable objects are always hashable. In the dictionary all the keys are hashed for faster retrivial (like in the sets).\n",
    "\n",
    "![dict-mem.PNG](resources/images/l3-lists/dict-mem.PNG)\n",
    "\n",
    "**tip** \n",
    "\n",
    "Performing list(d.keys()) on a dictionary returns a list of all the keys used in the dictionary, in arbitrary order. if you want it sorted, use sorted(d.keys())\n",
    "dict-mem\n",
    "Legaut Dictionary video\n",
    "\n",
    "---- \n",
    "\n",
    "[![IMAGE ALT TEXT HERE](https://img.youtube.com/vi/VnhBoQAgIVs/0.jpg)](https://www.youtube.com/watch?v=VnhBoQAgIVs)"
   ]
  },
  {
   "cell_type": "code",
   "execution_count": 22,
   "metadata": {},
   "outputs": [
    {
     "name": "stdout",
     "output_type": "stream",
     "text": [
      "{'a': 1234, 'b': 5678, 'c': '9012'}\n",
      "5678\n"
     ]
    }
   ],
   "source": [
    "d={'a':1234,'b':5678,'c':'9012'}\n",
    "print(d)\n",
    "print(d['b'])"
   ]
  },
  {
   "cell_type": "code",
   "execution_count": 20,
   "metadata": {},
   "outputs": [
    {
     "ename": "TypeError",
     "evalue": "unhashable type: 'list'",
     "output_type": "error",
     "traceback": [
      "\u001b[1;31m---------------------------------------------------------------------------\u001b[0m",
      "\u001b[1;31mTypeError\u001b[0m                                 Traceback (most recent call last)",
      "\u001b[1;32m<ipython-input-20-fae2b9dd5486>\u001b[0m in \u001b[0;36m<module>\u001b[1;34m()\u001b[0m\n\u001b[1;32m----> 1\u001b[1;33m \u001b[0md\u001b[0m\u001b[1;33m=\u001b[0m\u001b[1;33m{\u001b[0m\u001b[1;33m[\u001b[0m\u001b[1;34m'this'\u001b[0m\u001b[1;33m,\u001b[0m \u001b[1;34m'is'\u001b[0m\u001b[1;33m,\u001b[0m \u001b[1;34m'list'\u001b[0m\u001b[1;33m,\u001b[0m \u001b[1;34m'!'\u001b[0m\u001b[1;33m]\u001b[0m \u001b[1;33m:\u001b[0m \u001b[1;34m'spam'\u001b[0m\u001b[1;33m}\u001b[0m\u001b[1;33m\u001b[0m\u001b[0m\n\u001b[0m\u001b[0;32m      2\u001b[0m    \u001b[1;31m#if the key change during the program i dont have a consistency of my hash table means it will\u001b[0m\u001b[1;33m\u001b[0m\u001b[1;33m\u001b[0m\u001b[0m\n\u001b[0;32m      3\u001b[0m     \u001b[1;31m#give us another value\u001b[0m\u001b[1;33m\u001b[0m\u001b[1;33m\u001b[0m\u001b[0m\n\u001b[0;32m      4\u001b[0m     \u001b[1;31m#this is the reason why i can not have a list as a key\u001b[0m\u001b[1;33m\u001b[0m\u001b[1;33m\u001b[0m\u001b[0m\n\u001b[0;32m      5\u001b[0m    \u001b[1;31m# the key must be unmutable\u001b[0m\u001b[1;33m\u001b[0m\u001b[1;33m\u001b[0m\u001b[0m\n",
      "\u001b[1;31mTypeError\u001b[0m: unhashable type: 'list'"
     ]
    }
   ],
   "source": [
    " d={['this', 'is', 'list', '!'] : 'spam'}  \n",
    "    #if the key change during the program i dont have a consistency of my hash table means it will\n",
    "     #give us another value\n",
    "     #this is the reason why i can not have a list as a key \n",
    "    # the key must be unmutable"
   ]
  },
  {
   "cell_type": "markdown",
   "metadata": {},
   "source": [
    "*be careful*:\n",
    "numbers and strings are immutable. List, sets etc... are not.\n",
    "But tuples?\n",
    "\n",
    "**Tuples are immutable if all the elements inside of it are immutable!**"
   ]
  },
  {
   "cell_type": "code",
   "execution_count": 16,
   "metadata": {},
   "outputs": [
    {
     "name": "stdout",
     "output_type": "stream",
     "text": [
      "{('what', 'is', 'this?'): 'immutable '}\n"
     ]
    }
   ],
   "source": [
    "mytuplekey = 'what', 'is', 'this?',\n",
    "mydict = { mytuplekey : 'immutable '}\n",
    "print(mydict) # ok, all immutables"
   ]
  },
  {
   "cell_type": "code",
   "execution_count": 18,
   "metadata": {},
   "outputs": [
    {
     "ename": "TypeError",
     "evalue": "unhashable type: 'list'",
     "output_type": "error",
     "traceback": [
      "\u001b[1;31m---------------------------------------------------------------------------\u001b[0m",
      "\u001b[1;31mTypeError\u001b[0m                                 Traceback (most recent call last)",
      "\u001b[1;32m<ipython-input-18-5f96ce54cb55>\u001b[0m in \u001b[0;36m<module>\u001b[1;34m()\u001b[0m\n\u001b[0;32m      1\u001b[0m \u001b[0mmytuplekey\u001b[0m \u001b[1;33m=\u001b[0m \u001b[1;34m'what'\u001b[0m\u001b[1;33m,\u001b[0m \u001b[1;33m[\u001b[0m\u001b[1;34m'this'\u001b[0m\u001b[1;33m,\u001b[0m \u001b[1;34m'is'\u001b[0m\u001b[1;33m,\u001b[0m \u001b[1;34m'not'\u001b[0m\u001b[1;33m]\u001b[0m\u001b[1;33m,\u001b[0m \u001b[1;34m'?'\u001b[0m\u001b[1;33m,\u001b[0m\u001b[1;33m\u001b[0m\u001b[0m\n\u001b[1;32m----> 2\u001b[1;33m \u001b[0mmydict\u001b[0m \u001b[1;33m=\u001b[0m \u001b[1;33m{\u001b[0m \u001b[0mmytuplekey\u001b[0m \u001b[1;33m:\u001b[0m \u001b[1;34m'immutable '\u001b[0m\u001b[1;33m}\u001b[0m\u001b[1;33m\u001b[0m\u001b[0m\n\u001b[0m\u001b[0;32m      3\u001b[0m \u001b[0mprint\u001b[0m\u001b[1;33m(\u001b[0m\u001b[0mmydict\u001b[0m\u001b[1;33m)\u001b[0m \u001b[1;31m# list inside the tuple makes the tuple in the overall unsuitable as key\u001b[0m\u001b[1;33m\u001b[0m\u001b[0m\n",
      "\u001b[1;31mTypeError\u001b[0m: unhashable type: 'list'"
     ]
    }
   ],
   "source": [
    "mytuplekey = 'what', ['this', 'is', 'not'], '?',\n",
    "mydict = { mytuplekey : 'immutable '}\n",
    "print(mydict) # list inside the tuple makes the tuple in the overall unsuitable as key for the dict"
   ]
  },
  {
   "cell_type": "code",
   "execution_count": 38,
   "metadata": {},
   "outputs": [
    {
     "name": "stdout",
     "output_type": "stream",
     "text": [
      "[('a', 1234), ('b', 5678), ('c', '9012')]\n"
     ]
    }
   ],
   "source": [
    "#Let's decompose our dictionary...\n",
    "d={'a':1234,'b':5678,'c':'9012'}\n",
    "a=list(d.items())\n",
    "print(a)"
   ]
  },
  {
   "cell_type": "markdown",
   "metadata": {},
   "source": [
    "tuples?\n",
    "![scandal](https://i2.wp.com/bloggers.society19.com/wp-content/uploads/2017/03/drunken-nights.gif?zoom=1.25&resize=320%2C240)\n",
    "\n",
    "Yeah, and from a list of tuples (composed by immutable objects) we can create back a dictionary"
   ]
  },
  {
   "cell_type": "code",
   "execution_count": 25,
   "metadata": {},
   "outputs": [
    {
     "name": "stdout",
     "output_type": "stream",
     "text": [
      "{'a': 1234, 'b': 5678, 'c': '9012'}\n"
     ]
    }
   ],
   "source": [
    "d2=dict(a)\n",
    "print(d2)"
   ]
  },
  {
   "cell_type": "code",
   "execution_count": 26,
   "metadata": {},
   "outputs": [
    {
     "data": {
      "text/plain": [
       "True"
      ]
     },
     "execution_count": 26,
     "metadata": {},
     "output_type": "execute_result"
    }
   ],
   "source": [
    "'a' in d"
   ]
  },
  {
   "cell_type": "code",
   "execution_count": 52,
   "metadata": {},
   "outputs": [
    {
     "data": {
      "text/plain": [
       "3"
      ]
     },
     "execution_count": 52,
     "metadata": {},
     "output_type": "execute_result"
    }
   ],
   "source": [
    "len(d)"
   ]
  },
  {
   "cell_type": "code",
   "execution_count": 53,
   "metadata": {},
   "outputs": [
    {
     "data": {
      "text/plain": [
       "dict_keys(['a', 'b', 'c'])"
      ]
     },
     "execution_count": 53,
     "metadata": {},
     "output_type": "execute_result"
    }
   ],
   "source": [
    "d.keys()  #memory view object"
   ]
  },
  {
   "cell_type": "code",
   "execution_count": 39,
   "metadata": {},
   "outputs": [
    {
     "name": "stdout",
     "output_type": "stream",
     "text": [
      "dict_keys(['a', 'b', 'c'])\n"
     ]
    }
   ],
   "source": [
    "k=d.keys()\n",
    "print(k)"
   ]
  },
  {
   "cell_type": "code",
   "execution_count": 40,
   "metadata": {},
   "outputs": [
    {
     "name": "stdout",
     "output_type": "stream",
     "text": [
      "{'a': 1234, 'b': 5678, 'c': '9012', 'e': 4556}\n"
     ]
    }
   ],
   "source": [
    "# We can of course modify the dictionary\n",
    "d['e']=4556\n",
    "print(d)"
   ]
  },
  {
   "cell_type": "code",
   "execution_count": 41,
   "metadata": {},
   "outputs": [
    {
     "name": "stdout",
     "output_type": "stream",
     "text": [
      "dict_keys(['a', 'b', 'c', 'e'])\n"
     ]
    }
   ],
   "source": [
    "print(k) #Yes, the view on the key set has been updated"
   ]
  },
  {
   "cell_type": "code",
   "execution_count": 42,
   "metadata": {},
   "outputs": [
    {
     "data": {
      "text/plain": [
       "['a', 'b', 'c', 'e']"
      ]
     },
     "execution_count": 42,
     "metadata": {},
     "output_type": "execute_result"
    }
   ],
   "source": [
    "list(k)"
   ]
  },
  {
   "cell_type": "code",
   "execution_count": 43,
   "metadata": {},
   "outputs": [
    {
     "data": {
      "text/plain": [
       "dict_keys(['a', 'b', 'c', 'e'])"
      ]
     },
     "execution_count": 43,
     "metadata": {},
     "output_type": "execute_result"
    }
   ],
   "source": [
    "k"
   ]
  },
  {
   "cell_type": "markdown",
   "metadata": {},
   "source": [
    "### Data retrieval from dict\n",
    "there are several possibilities"
   ]
  },
  {
   "cell_type": "code",
   "execution_count": 50,
   "metadata": {},
   "outputs": [
    {
     "data": {
      "text/plain": [
       "1234"
      ]
     },
     "execution_count": 50,
     "metadata": {},
     "output_type": "execute_result"
    }
   ],
   "source": [
    "d['a'] ### first"
   ]
  },
  {
   "cell_type": "code",
   "execution_count": 51,
   "metadata": {},
   "outputs": [
    {
     "ename": "KeyError",
     "evalue": "'gino'",
     "output_type": "error",
     "traceback": [
      "\u001b[1;31m---------------------------------------------------------------------------\u001b[0m",
      "\u001b[1;31mKeyError\u001b[0m                                  Traceback (most recent call last)",
      "\u001b[1;32m<ipython-input-51-85196c66674a>\u001b[0m in \u001b[0;36m<module>\u001b[1;34m()\u001b[0m\n\u001b[0;32m      1\u001b[0m \u001b[1;31m## But is not safe...\u001b[0m\u001b[1;33m\u001b[0m\u001b[1;33m\u001b[0m\u001b[0m\n\u001b[1;32m----> 2\u001b[1;33m \u001b[0md\u001b[0m\u001b[1;33m[\u001b[0m\u001b[1;34m'gino'\u001b[0m\u001b[1;33m]\u001b[0m\u001b[1;33m\u001b[0m\u001b[0m\n\u001b[0m",
      "\u001b[1;31mKeyError\u001b[0m: 'gino'"
     ]
    }
   ],
   "source": [
    "## But is not safe...\n",
    "d['gino']"
   ]
  },
  {
   "cell_type": "code",
   "execution_count": 53,
   "metadata": {},
   "outputs": [
    {
     "name": "stdout",
     "output_type": "stream",
     "text": [
      "1234\n"
     ]
    }
   ],
   "source": [
    "if 'a' in d:    #first posibility with check to avoid exceptions\n",
    "    print(d['a'])\n",
    "    \n",
    "if 'gino' in d:\n",
    "    print(d['gino'])"
   ]
  },
  {
   "cell_type": "code",
   "execution_count": 59,
   "metadata": {},
   "outputs": [
    {
     "name": "stdout",
     "output_type": "stream",
     "text": [
      "{'a': 1234, 'b': 5678, 'c': '9012', 'e': 4556, 'alice': 1276352}\n"
     ]
    }
   ],
   "source": [
    "d.get('alice','not in the dict') #second posibility\n",
    "d.get('b','not in the dict')\n",
    "\n",
    "# third possibility\n",
    "# We could set a default key-value retourned in case the key was not found\n",
    "d.setdefault('alice',1276352)\n",
    "print(d)\n",
    "\n",
    "d.get('bob')"
   ]
  },
  {
   "cell_type": "markdown",
   "metadata": {},
   "source": [
    "To summarize 3 methods to access a element in dictionary\n",
    "- d['a']\n",
    "- d.get['a','default']\n",
    "- d.setdefault['a','default']"
   ]
  },
  {
   "cell_type": "code",
   "execution_count": 64,
   "metadata": {
    "collapsed": true
   },
   "outputs": [],
   "source": [
    "?d.setdefault"
   ]
  },
  {
   "cell_type": "markdown",
   "metadata": {},
   "source": [
    "# Conditional controls in Python"
   ]
  },
  {
   "cell_type": "markdown",
   "metadata": {},
   "source": [
    "## IF - condition\n",
    "```python\n",
    "if <condition> : \n",
    "    <action>\n",
    "[elif <condition>: \n",
    "    <action> ]\n",
    "[else: \n",
    "    <action> ]\n",
    "```\n",
    "\n",
    "Remember ops on `bool`. \n",
    "```python\n",
    "False is \n",
    "    *False\n",
    "    *0,0.0\n",
    "    *None\n",
    "    *any empty object [],{},'',tuple(),set()\n",
    "True is \n",
    "    *everything else is true. \n",
    "\n",
    "True and True => True\n",
    "True and False => False\n",
    "not True => False\n",
    "True or False => True\n",
    "```\n",
    "\n",
    "##### short cut in condition statements\n",
    "For the boolean expressions in Python is applied the [Short circuit evaluation](https://en.wikipedia.org/wiki/Short-circuit_evaluation) (as in Java, C...)\n",
    "\n",
    "The condition is evaluated from left to right, it stops its evaluation whenever the expression ends whenever the output of the expression can be already given. \n",
    "\n",
    "Arnaut legaut explaining the IF statements\n",
    "\n",
    "-----\n",
    "\n",
    "[![Legaut - The IF statement](https://img.youtube.com/vi/0JXc48GXZrU/0.jpg)](https://www.youtube.com/watch?v=0JXc48GXZrU)\n",
    "\n",
    "-----"
   ]
  },
  {
   "cell_type": "code",
   "execution_count": 91,
   "metadata": {},
   "outputs": [
    {
     "name": "stdout",
     "output_type": "stream",
     "text": [
      "other\n"
     ]
    }
   ],
   "source": [
    "note=-2\n",
    "if 0<note and note<10:\n",
    "    print('failed')\n",
    "elif note >=10:\n",
    "    print('success')\n",
    "else:\n",
    "    print('other') "
   ]
  },
  {
   "cell_type": "code",
   "execution_count": 94,
   "metadata": {},
   "outputs": [
    {
     "data": {
      "text/plain": [
       "True"
      ]
     },
     "execution_count": 94,
     "metadata": {},
     "output_type": "execute_result"
    }
   ],
   "source": [
    "agenda=d\n",
    "('alice' in d) and d['alice']>20 #if the first one is false the second expression is not evaluated"
   ]
  },
  {
   "cell_type": "markdown",
   "metadata": {},
   "source": [
    "## Loops in Python\n",
    "We have two types of loops:\n",
    "- while\n",
    "- for ... in ...\n",
    "There is not for(;;) like in Java!\n",
    "\n",
    "syntax:\n",
    "```python\n",
    "while <condition> : \n",
    "    <action>\n",
    "\n",
    "for X in <source>:\n",
    "    <action>\n",
    "```\n"
   ]
  },
  {
   "cell_type": "code",
   "execution_count": 100,
   "metadata": {},
   "outputs": [
    {
     "name": "stdout",
     "output_type": "stream",
     "text": [
      "[0, 1, 4, 9, 16, 25, 36, 49, 64, 81]\n"
     ]
    }
   ],
   "source": [
    "import \n",
    "L=[]\n",
    "for i in range(10):\n",
    "    L.append(i**2)\n",
    "print(L)    "
   ]
  },
  {
   "cell_type": "code",
   "execution_count": 72,
   "metadata": {},
   "outputs": [
    {
     "ename": "NameError",
     "evalue": "name 'rand' is not defined",
     "output_type": "error",
     "traceback": [
      "\u001b[1;31m---------------------------------------------------------------------------\u001b[0m",
      "\u001b[1;31mNameError\u001b[0m                                 Traceback (most recent call last)",
      "\u001b[1;32m<ipython-input-72-d98910dea30a>\u001b[0m in \u001b[0;36m<module>\u001b[1;34m()\u001b[0m\n\u001b[0;32m      1\u001b[0m \u001b[0mL\u001b[0m\u001b[1;33m=\u001b[0m\u001b[1;33m[\u001b[0m\u001b[1;33m]\u001b[0m\u001b[1;33m\u001b[0m\u001b[0m\n\u001b[0;32m      2\u001b[0m \u001b[1;32mwhile\u001b[0m \u001b[0mlen\u001b[0m\u001b[1;33m(\u001b[0m\u001b[0mL\u001b[0m\u001b[1;33m)\u001b[0m \u001b[1;33m<\u001b[0m \u001b[1;36m10\u001b[0m\u001b[1;33m:\u001b[0m\u001b[1;33m\u001b[0m\u001b[0m\n\u001b[1;32m----> 3\u001b[1;33m     \u001b[0mL\u001b[0m\u001b[1;33m.\u001b[0m\u001b[0mappend\u001b[0m\u001b[1;33m(\u001b[0m\u001b[0mrand\u001b[0m\u001b[1;33m(\u001b[0m\u001b[1;33m)\u001b[0m\u001b[1;33m)\u001b[0m\u001b[1;33m\u001b[0m\u001b[0m\n\u001b[0m\u001b[0;32m      4\u001b[0m \u001b[0mprint\u001b[0m\u001b[1;33m(\u001b[0m\u001b[0mL\u001b[0m\u001b[1;33m)\u001b[0m\u001b[1;33m\u001b[0m\u001b[0m\n",
      "\u001b[1;31mNameError\u001b[0m: name 'rand' is not defined"
     ]
    }
   ],
   "source": [
    "L=[] \n",
    "while len(L) < 10:\n",
    "    L.append(rand())\n",
    "print(L)"
   ]
  },
  {
   "cell_type": "code",
   "execution_count": 104,
   "metadata": {
    "scrolled": true
   },
   "outputs": [
    {
     "name": "stdout",
     "output_type": "stream",
     "text": [
      "[0, 4, 16, 36, 64, 100, 144, 196, 256, 324, 400, 484, 576, 676, 784]\n"
     ]
    }
   ],
   "source": [
    "L=[]\n",
    "for i in range(30):\n",
    "    if i%2 ==0:\n",
    "        L.append(i**2)\n",
    "print(L)   "
   ]
  },
  {
   "cell_type": "markdown",
   "metadata": {},
   "source": [
    "## Comprehensions in Python\n",
    "\n",
    "They improve a lot readability, simplifying what we are doing in the loop, combining a transformation and a filter. \n",
    "Not all the for loops can be transformedin comprehensions of course (for example, in case of multiple transformations, or actions).\n",
    "\n",
    "The comprehensions syntax is different for set, list and dicts.\n",
    "- list: [ comprehension ]\n",
    "- set, dicts: { comprehension }\n",
    "\n",
    "General form for 'comprehension': ACTION for X in SOURCE [if condition]. The condition is optional.\n",
    "\n",
    "*legaut video suggested*\n",
    "\n",
    "---\n",
    "\n",
    "[![Legaut - The IF statement](https://img.youtube.com/vi/KTqMK32k2W4/0.jpg)](https://www.youtube.com/watch?v=KTqMK32k2W4)\n",
    "\n"
   ]
  },
  {
   "cell_type": "code",
   "execution_count": 102,
   "metadata": {},
   "outputs": [
    {
     "data": {
      "text/plain": [
       "[0, 1, 4, 9, 16, 25, 36, 49, 64, 81]"
      ]
     },
     "execution_count": 102,
     "metadata": {},
     "output_type": "execute_result"
    }
   ],
   "source": [
    "[i**2 for i in range(10)]"
   ]
  },
  {
   "cell_type": "code",
   "execution_count": 71,
   "metadata": {},
   "outputs": [
    {
     "data": {
      "text/plain": [
       "[0, 4, 16, 36, 64, 100, 144, 196, 256, 324, 400, 484, 576, 676, 784]"
      ]
     },
     "execution_count": 71,
     "metadata": {},
     "output_type": "execute_result"
    }
   ],
   "source": [
    "# List comprehension to print the square of all the even number from 0 to 29\n",
    "[i**2 for i in range(30) if i%2 ==0]"
   ]
  },
  {
   "cell_type": "code",
   "execution_count": 70,
   "metadata": {},
   "outputs": [
    {
     "name": "stdout",
     "output_type": "stream",
     "text": [
      "{0, 256, 1024, 2304, 4, 900, 1156, 3844, 4096, 4356, 8836, 9604, 16, 144, 400, 784, 1296, 1936, 2704, 3600, 4624, 5776, 9216, 36, 676, 1444, 3364, 4900, 8100, 7056, 7744, 64, 576, 1600, 3136, 196, 324, 2116, 2500, 5184, 6084, 6400, 6724, 8464, 100, 484, 1764, 2916, 5476, 7396}\n"
     ]
    }
   ],
   "source": [
    "# List comprehension to print the square of all the even number (from 0 to 99, but multiplied by 100)\n",
    "a=list(range(100))*100\n",
    "result = {i**2 for i in a if i%2 ==0}\n",
    "print(result)"
   ]
  },
  {
   "cell_type": "code",
   "execution_count": 66,
   "metadata": {},
   "outputs": [
    {
     "name": "stdout",
     "output_type": "stream",
     "text": [
      "[0, 1, 2, 3, 4, 5, 6, 7, 8, 9, 11, 22, 33, 44, 55, 66, 77, 88, 99, 101, 111, 121, 131, 141, 151, 161, 171, 181, 191, 202, 212, 222, 232, 242, 252, 262, 272, 282, 292, 303, 313, 323, 333, 343, 353, 363, 373, 383, 393, 404, 414, 424, 434, 444, 454, 464, 474, 484, 494, 505, 515, 525, 535, 545, 555, 565, 575, 585, 595, 606, 616, 626, 636, 646, 656, 666, 676, 686, 696, 707, 717, 727, 737, 747, 757, 767, 777, 787, 797, 808, 818, 828, 838, 848, 858, 868, 878, 888, 898, 909, 919, 929, 939, 949, 959, 969, 979, 989, 999]\n"
     ]
    }
   ],
   "source": [
    "# Print all the palindrome numbers from 0 to 999\n",
    "palindrome=[]\n",
    "for n in range(1_000):\n",
    "    if str(n) == str(n)[::-1]:\n",
    "        palindrome.append(n)\n",
    "print(palindrome)"
   ]
  },
  {
   "cell_type": "code",
   "execution_count": 69,
   "metadata": {},
   "outputs": [
    {
     "name": "stdout",
     "output_type": "stream",
     "text": [
      "[0, 1, 2, 3, 4, 5, 6, 7, 8, 9, 11, 22, 33, 44, 55, 66, 77, 88, 99, 101, 111, 121, 131, 141, 151, 161, 171, 181, 191, 202, 212, 222, 232, 242, 252, 262, 272, 282, 292, 303, 313, 323, 333, 343, 353, 363, 373, 383, 393, 404, 414, 424, 434, 444, 454, 464, 474, 484, 494, 505, 515, 525, 535, 545, 555, 565, 575, 585, 595, 606, 616, 626, 636, 646, 656, 666, 676, 686, 696, 707, 717, 727, 737, 747, 757, 767, 777, 787, 797, 808, 818, 828, 838, 848, 858, 868, 878, 888, 898, 909, 919, 929, 939, 949, 959, 969, 979, 989, 999]\n"
     ]
    }
   ],
   "source": [
    "# Print all the palindrome numbers from 0 to 999\n",
    "palindrome = [n for n in range(1_000) if str(n)==str(n)[::-1]]\n",
    "print(palindrome)"
   ]
  }
 ],
 "metadata": {
  "kernelspec": {
   "display_name": "Python 3",
   "language": "python",
   "name": "python3"
  },
  "language_info": {
   "codemirror_mode": {
    "name": "ipython",
    "version": 3
   },
   "file_extension": ".py",
   "mimetype": "text/x-python",
   "name": "python",
   "nbconvert_exporter": "python",
   "pygments_lexer": "ipython3",
   "version": "3.6.3"
  }
 },
 "nbformat": 4,
 "nbformat_minor": 2
}
